{
 "cells": [
  {
   "cell_type": "code",
   "execution_count": 1,
   "id": "2ac06915-0517-46b3-9dbd-212176de1b1b",
   "metadata": {},
   "outputs": [],
   "source": [
    "import os\n",
    "from types import SimpleNamespace\n",
    "\n",
    "import dotenv\n",
    "import openai\n",
    "import pymongo\n",
    "import pycmarkgfm\n",
    "import numpy as np\n",
    "from IPython import display\n",
    "from ipywidgets import HTML\n",
    "from bson import ObjectId"
   ]
  },
  {
   "cell_type": "code",
   "execution_count": 2,
   "id": "ff8630a4-1441-4ddd-a7d3-da02713be238",
   "metadata": {},
   "outputs": [],
   "source": [
    "def format_text(text):\n",
    "    return HTML(pycmarkgfm.markdown_to_html(text))"
   ]
  },
  {
   "cell_type": "code",
   "execution_count": 3,
   "id": "8999ab7c-eac4-4fca-8171-f488cabd74f3",
   "metadata": {},
   "outputs": [],
   "source": [
    "def connect_to_db(collection):\n",
    "    dotenv.load_dotenv()\n",
    "    mongodb_uri = os.getenv(\"MONGODB_URI\")\n",
    "    DBclient = pymongo.MongoClient(mongodb_uri)\n",
    "    db = DBclient[\"ML2-Abschlussprojekt\"]\n",
    "    return db[collection]"
   ]
  },
  {
   "cell_type": "code",
   "execution_count": 4,
   "id": "f29a1d17-ded4-4d83-ade6-0d11ff944abb",
   "metadata": {},
   "outputs": [],
   "source": [
    "def serialize_obj(obj):\n",
    "    \"\"\"Recursively convert ObjectId to str and prepare for JSON serialization.\"\"\"\n",
    "    if isinstance(obj, ObjectId):\n",
    "        return str(obj)\n",
    "    if isinstance(obj, list):\n",
    "        return [serialize_obj(item) for item in obj]\n",
    "    if isinstance(obj, dict):\n",
    "        return {key: serialize_obj(value) for key, value in obj.items()}\n",
    "    return obj"
   ]
  },
  {
   "cell_type": "code",
   "execution_count": 5,
   "id": "323795fd-05c2-4e14-ab31-b8e605193594",
   "metadata": {},
   "outputs": [],
   "source": [
    "def get_semester(id):\n",
    "    collection = connect_to_db(\"Semester_Data\")\n",
    "    results = collection.find_one({\"_id\":ObjectId(id)})\n",
    "    return serialize_obj(results)"
   ]
  },
  {
   "cell_type": "code",
   "execution_count": 6,
   "id": "56933e7d-7e7a-42dd-84ee-c03d1baaac95",
   "metadata": {},
   "outputs": [],
   "source": [
    "def get_pupil(id):\n",
    "    collection = connect_to_db(\"Base_Data\")\n",
    "    results = collection.find_one({\"_id\":ObjectId(id)})\n",
    "    return serialize_obj(results)"
   ]
  },
  {
   "cell_type": "code",
   "execution_count": 7,
   "id": "664a1707-7cc4-4ce2-be6e-3c215fa7933d",
   "metadata": {},
   "outputs": [],
   "source": [
    "semester = get_semester(\"665d8ff86ce65f51c7e17e34\")\n",
    "student = get_pupil(semester[\"student_id\"])"
   ]
  },
  {
   "cell_type": "code",
   "execution_count": 8,
   "id": "4bdce825-d8a4-4b63-8e07-bdb2ba893447",
   "metadata": {},
   "outputs": [
    {
     "data": {
      "text/plain": [
       "{'_id': '665d8ff66ce65f51c7e17e2a',\n",
       " 'firstname': 'Bruce',\n",
       " 'lastname': 'Banner',\n",
       " 'gender': 'männlich',\n",
       " 'birthday': '2009-02-02',\n",
       " 'school_entry': '2022-08-01',\n",
       " 'diagnose': 'Schizophrenie',\n",
       " 'compensation': 'Separater Raum bei Prüfungen',\n",
       " 'class_teacher': 'Nick Fury',\n",
       " 'special_education_teacher': 'Miss Marvel'}"
      ]
     },
     "execution_count": 8,
     "metadata": {},
     "output_type": "execute_result"
    }
   ],
   "source": [
    "student"
   ]
  },
  {
   "cell_type": "code",
   "execution_count": 9,
   "id": "5988011c-95d1-4244-a613-dcc042a88468",
   "metadata": {
    "scrolled": true
   },
   "outputs": [
    {
     "data": {
      "text/plain": [
       "{'_id': '665d8ff86ce65f51c7e17e34',\n",
       " 'student_id': '665d8ff66ce65f51c7e17e2a',\n",
       " 'semester_name': 'HS23',\n",
       " 'niveau': 'A',\n",
       " 'last_progress_talk': 'FS23',\n",
       " 'last_report': 'FS23',\n",
       " 'final_assessment': {'allgemeines_lernen': {'AktivTeilnehmen': {'assessment': 'gut',\n",
       "    'notes': ''},\n",
       "   'LeistungZeigen': {'assessment': 'sehr gut', 'notes': ''},\n",
       "   'AufmerksamSein': {'assessment': 'teilweise', 'notes': ''},\n",
       "   'SchulinhalteMerken': {'assessment': 'nicht immer', 'notes': ''},\n",
       "   'SchulinhalteAbrufen': {'assessment': 'noch nicht',\n",
       "    'notes': 'asdsdfadfasd'}}},\n",
       " 'text': None}"
      ]
     },
     "execution_count": 9,
     "metadata": {},
     "output_type": "execute_result"
    }
   ],
   "source": [
    "semester"
   ]
  },
  {
   "cell_type": "code",
   "execution_count": 10,
   "id": "94261112-bd81-4d28-94b9-fda5d5f38fbe",
   "metadata": {},
   "outputs": [],
   "source": [
    "criteria = { \n",
    "    \"AktivTeilnehmen\": 'aktiv am Unterricht teilnehmen',\n",
    "    \"LeistungZeigen\": 'im Unterricht Leistung zeigen',\n",
    "    \"AufmerksamSein\": 'während dem Unterricht Aufmerksam sein und den Instruktionen der Lehrperson folgen',\n",
    "    \"SchulinhalteMerken\": 'sich schulische Inhalte merken',\n",
    "    \"SchulinhalteAbrufen\": 'schulische Inhalte bei Bedarf abrufen',\n",
    "}"
   ]
  },
  {
   "cell_type": "code",
   "execution_count": 11,
   "id": "dbd3f2f8-9860-466e-bee9-1e0d55e23acb",
   "metadata": {},
   "outputs": [],
   "source": [
    "assessment = { \n",
    "        \"AktivTeilnehmen\": 'sehr gut',\n",
    "        \"AktivTeilnehmenNotizen\": '',\n",
    "        \"LeistungZeigen\": 'gut',\n",
    "        \"LeistungZeigenNotizen\": 'Bruce hat sich seit dem letzten Semester sehr verbessert',\n",
    "        \"AufmerksamSein\": 'nicht immer',\n",
    "        \"AufmerksamSeinNotizen\": '',\n",
    "        \"SchulinhalteMerken\": 'teilweise',\n",
    "        \"SchulinhalteMerkenNotizen\": '',\n",
    "        \"SchulinhalteAbrufen\": 'noch nicht',\n",
    "        \"SchulinhalteAbrufenNotizen\": '',\n",
    "}"
   ]
  },
  {
   "cell_type": "code",
   "execution_count": 12,
   "id": "b144f061-7217-4978-9627-4ecb9b38448f",
   "metadata": {},
   "outputs": [],
   "source": [
    "assessment_namespace = {\n",
    "    k: SimpleNamespace(ass=assessment[k],notes=assessment[k+\"Notizen\"])\n",
    "    for k in criteria\n",
    "}"
   ]
  },
  {
   "cell_type": "code",
   "execution_count": 14,
   "id": "4b3b1952-2541-4019-b7d7-68c211681168",
   "metadata": {},
   "outputs": [],
   "source": [
    "name = student[\"firstname\"]\n",
    "gender = student[\"gender\"]\n",
    "\n",
    "if gender == \"männlich\":\n",
    "    alias_name = \"John Doe\"\n",
    "else:\n",
    "    alias_name = \"Jane Doe\"\n",
    "\n",
    "assessment_prompt = {\n",
    "    criteria.get(k,k):v\n",
    "    for k,v in assessment.items()\n",
    "}\n",
    "\n",
    "assessment_prompt = \"\\n\".join(\n",
    "    f\" - {name} kann {v.ass} {criteria[k]}\"+(f\" ({v.notes})\" if v.notes else \"\")\n",
    "    for k,v in assessment_namespace.items()\n",
    ")\n",
    "assessment_prompt = assessment_prompt.replace(name, alias_name)"
   ]
  },
  {
   "cell_type": "code",
   "execution_count": 16,
   "id": "fc3faadc-40f7-4f61-b5e2-3e2c5bbd6ee8",
   "metadata": {},
   "outputs": [],
   "source": [
    "system_content = f\"\"\"\n",
    "Du wirst eine Evaluation eines Schülers oder einer Schülerin bekommen.\n",
    "Die Evaluation wird in kurzen einfachen Sätzen sein.\n",
    "Dein Task ist es, diese Sätze zu einem Fliesstext zusammenzubringen.\n",
    "Der Fliesstext soll professionell sein.\n",
    "Der Fliesstext soll nur Informationen enthalten, die von der Evaluation mitgegeben werden.\n",
    "Der Fliesstext soll die Schweizer Rechtschreibung nutzen, das heisst, Scharf-S wird durch Doppel-S ersetzt.\n",
    "\"\"\""
   ]
  },
  {
   "cell_type": "code",
   "execution_count": 13,
   "id": "f4cef307-6cd4-4d1b-bef5-8c9b6bf010a5",
   "metadata": {},
   "outputs": [],
   "source": [
    "first_prompt = f\"\"\"\n",
    "Bitte mache aus der folgenden Einschätzung einen professionellen Fliesstext:\n",
    "{assessment_prompt}\n",
    "\"\"\""
   ]
  },
  {
   "cell_type": "code",
   "execution_count": 15,
   "id": "148b5d44-c1ab-420e-a54c-ca86d61f5ae9",
   "metadata": {},
   "outputs": [],
   "source": [
    "messages = [\n",
    "    {\n",
    "        \"role\": \"system\",\n",
    "        \"content\": system_content\n",
    "    },\n",
    "    {\n",
    "        \"role\": \"user\",\n",
    "        \"content\": \"\"\"\n",
    "John Doe kann gut aktiv am Unterricht teilnehmen.\n",
    "John Doe kann gut im schulischen Umfeld Leistung zeigen.\n",
    "John Doe kann nicht immer während des Unterrichts Aufmerksam sein und den Instruktionen der Lehrperson folgen.\n",
    "John Doe kann teilweise sich schulische Inhalte merken.\n",
    "John Doe kann noch nicht schulische Inhalte bei Bedarf abrufen.\n",
    "        \"\"\"\n",
    "    },\n",
    "    {\n",
    "        \"role\": \"assistant\",\n",
    "        \"content\": \"\"\"\n",
    "John Doe gelingt es gut, aktiv am Unterricht teilzunehmen.\n",
    "Ausserdem zeigt er meist gute Leistungen im schulischen Umfeld.\n",
    "Er kann jedoch während des Unterrichts nicht immer Aufmerksam sein und den Instruktionen der Lehrperson folgen.\n",
    "Ausserdem hat John Doe teilweise Mühe, sich schulische Inhalte zu merken.\n",
    "Auch gelingt es ihm noch nicht, die gemerkten Inhalte bei Bedarf abzurufen.\n",
    "        \"\"\"\n",
    "    },\n",
    "    {\n",
    "        \"role\": \"user\",\n",
    "        \"content\": \"\"\"\n",
    "Jane Doe kann teilweise aktiv am Unterricht teilnehmen.\n",
    "Jane Doe kann nicht immer im schulischen Umfeld Leistung zeigen.\n",
    "Jane Doe kann gut während des Unterrichts Aufmerksam sein und den Instruktionen der Lehrperson folgen.\n",
    "Jane Doe kann gut sich schulische Inhalte merken.\n",
    "Jane Doe kann teilweise schulische Inhalte bei Bedarf abrufen.\n",
    "        \"\"\"\n",
    "    },\n",
    "    {\n",
    "        \"role\": \"assistant\",\n",
    "        \"content\": \"\"\"\n",
    "Jane Doe kann nur teilweise aktiv am Unterricht teilnehmen.\n",
    "Nicht immer gelingt es ihr im schulischen Umfeld Leistungen zu zeigen.\n",
    "Sie kann jedoch gut während des Unterrichts Aufmerksam sein und den Instruktionen der Lehrperson folgen.\n",
    "Ausserdem merkt sie sich schulische Inhalte gut, kann diese jedoch nur teilweise bei Bedarf abrufen.\n",
    "        \"\"\"\n",
    "    },\n",
    "    {\n",
    "        \"role\": \"user\",\n",
    "        \"content\": first_prompt\n",
    "    },\n",
    "]"
   ]
  },
  {
   "cell_type": "code",
   "execution_count": 16,
   "id": "a7c70944-9e1d-4af4-a91c-36ff2e3be6cb",
   "metadata": {},
   "outputs": [],
   "source": [
    "def get_api_key():\n",
    "    dotenv.load_dotenv()\n",
    "    os.getenv(\"OPENAI_APIKEY\")\n",
    "    return os.getenv(\"OPENAI_APIKEY\")\n",
    "openai.api_key = get_api_key()"
   ]
  },
  {
   "cell_type": "code",
   "execution_count": 17,
   "id": "76c6d9af-fdff-4b88-8865-afd68238d710",
   "metadata": {},
   "outputs": [],
   "source": [
    "def _openai(messages) -> openai.types.chat.chat_completion.Choice:\n",
    "    \"\"\"\n",
    "    Request is sent to OpenAI\n",
    "    Return the response in a ChatCompletion-Object\n",
    "    \"\"\"\n",
    "    model_result = openai.chat.completions.create(\n",
    "        model=\"gpt-3.5-turbo\",\n",
    "        messages=messages,\n",
    "        temperature=0.2,\n",
    "        top_p=1,\n",
    "    )\n",
    "    response = model_result.choices[0]\n",
    "    chain = messages + [response.message]\n",
    "    return response.message.content, chain"
   ]
  },
  {
   "cell_type": "code",
   "execution_count": 18,
   "id": "33112e37-5ab0-43bf-b42a-78c8aebdc31a",
   "metadata": {},
   "outputs": [],
   "source": [
    "answer, chain = _openai(messages)"
   ]
  },
  {
   "cell_type": "code",
   "execution_count": 19,
   "id": "51e85b18-f22a-4656-a530-7f40bc23c57e",
   "metadata": {},
   "outputs": [
    {
     "data": {
      "application/vnd.jupyter.widget-view+json": {
       "model_id": "e495fced04e640c286fcd3c123063758",
       "version_major": 2,
       "version_minor": 0
      },
      "text/plain": [
       "HTML(value='<p>John Doe zeigt eine sehr gute Fähigkeit, aktiv am Unterricht teilzunehmen.\\nZudem kann er gut i…"
      ]
     },
     "execution_count": 19,
     "metadata": {},
     "output_type": "execute_result"
    }
   ],
   "source": [
    "format_text(answer)"
   ]
  },
  {
   "cell_type": "code",
   "execution_count": 20,
   "id": "f480ba5b-b629-4af9-8928-dec616e32453",
   "metadata": {},
   "outputs": [],
   "source": [
    "def follow_up_prompt(prompt, messages):\n",
    "    messages.append({\"role\":\"user\",\"content\":prompt})\n",
    "    return messages"
   ]
  },
  {
   "cell_type": "code",
   "execution_count": null,
   "id": "82454b8c-3b79-45b3-9d3a-1c98b35fd0da",
   "metadata": {},
   "outputs": [],
   "source": []
  },
  {
   "cell_type": "code",
   "execution_count": null,
   "id": "9ccbe816-e91c-43ad-ace7-3f9d0881345b",
   "metadata": {},
   "outputs": [],
   "source": []
  },
  {
   "cell_type": "code",
   "execution_count": 140,
   "id": "e5d84406-d014-4eaa-bb47-0b670ec106c1",
   "metadata": {},
   "outputs": [],
   "source": [
    "import textwrap\n",
    "ex_fmt = \"\\n\".join(\n",
    "    \"> \"+\n",
    "    \"\\n> \".join(textwrap.wrap(ex.strip()))\n",
    "    + \"\\n\"\n",
    "    for ex in text_exmaples\n",
    ")\n",
    "\n",
    "text_exmaples = [\n",
    "\"\"\"\n",
    "Jane Doe zeigt auch bei Fächern, welche sie nicht so interessieren, ansprechende Leistungen.\n",
    "Es gelingt ihr, aufmerksam zu sein und den Instruktionen der Lehrperson zu folgen.\n",
    "Dennoch braucht sie meist nochmals eine 1:1 Erklärung, damit sie das Gesagte verarbeiten kann.\n",
    "Jane Doe hat manchmal Schwierigkeiten, sich Schulinhalte zu merken.\n",
    "Wenn sie sich jedoch für ein Thema interessiert, kann sie dieses aufnehmen und später wieder abrufen. \n",
    "\"\"\",\n",
    "\"\"\"\n",
    "John Doe hat noch Schwierigkeiten, im Unterricht aktiv mitzumachen.\n",
    "Besonders bei Frontalunterricht bekundet John Doe Mühe, da es ihm sehr schnell zu laut wird.\n",
    "Dann verweigert er komplett. \n",
    "Im normalen Unterrichtsgeschehen gelingt es ihm meist, aufmerksam zu sein und den Instruktionen der Lehrperson zu folgen.\n",
    "John Doe hat manchmal Schwierigkeiten, sich Schulinhalte zu merken.\n",
    "Wenn er sich jedoch für ein Thema interessiert, kann er dieses aufnehmen und später wieder abrufen. \n",
    "\"\"\"\n",
    "]"
   ]
  },
  {
   "cell_type": "code",
   "execution_count": null,
   "id": "ffa64811-63fe-4dbd-8b7f-cf172c0728b9",
   "metadata": {},
   "outputs": [],
   "source": [
    "first_prompt = f\"\"\"\n",
    "Bitte mache aus der folgenden Einschätzung einen professionellen Fliesstext:\n",
    "\n",
    "{assessment_prompt}\n",
    "\n",
    "Der Text darf trocken formuliert sein.\n",
    "Im Text soll die Schweizer Rechtschreibung ohne Scharf-S verwendet werden.\n",
    "\n",
    "Wichtig ist, dass nur Informationen verwendet werden, die im\n",
    "Assessment stehen und keine weiteren Informationen erfunden werden.\n",
    "Es sollen keine Empfehlungen für die Zukunft gemacht werden.\n",
    "\n",
    "Ausserdem sollen passenden Absätze gemacht werden.\n",
    "Bitte nutze die korrekten Pronomen im Text.\n",
    "\"\"\""
   ]
  }
 ],
 "metadata": {
  "kernelspec": {
   "display_name": "Python 3 (ipykernel)",
   "language": "python",
   "name": "python3"
  },
  "language_info": {
   "codemirror_mode": {
    "name": "ipython",
    "version": 3
   },
   "file_extension": ".py",
   "mimetype": "text/x-python",
   "name": "python",
   "nbconvert_exporter": "python",
   "pygments_lexer": "ipython3",
   "version": "3.11.4"
  }
 },
 "nbformat": 4,
 "nbformat_minor": 5
}
