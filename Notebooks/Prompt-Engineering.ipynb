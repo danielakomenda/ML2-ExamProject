{
 "cells": [
  {
   "cell_type": "code",
   "execution_count": 1,
   "id": "2ac06915-0517-46b3-9dbd-212176de1b1b",
   "metadata": {},
   "outputs": [],
   "source": [
    "import os\n",
    "from types import SimpleNamespace\n",
    "\n",
    "import dotenv\n",
    "import openai\n",
    "import pymongo\n",
    "import pycmarkgfm\n",
    "import numpy as np\n",
    "from IPython import display\n",
    "from ipywidgets import HTML\n",
    "from bson import ObjectId"
   ]
  },
  {
   "cell_type": "code",
   "execution_count": 2,
   "id": "8999ab7c-eac4-4fca-8171-f488cabd74f3",
   "metadata": {},
   "outputs": [],
   "source": [
    "def connect_to_db(collection):\n",
    "    dotenv.load_dotenv()\n",
    "    mongodb_uri = os.getenv(\"MONGODB_URI\")\n",
    "    DBclient = pymongo.MongoClient(mongodb_uri)\n",
    "    db = DBclient[\"ML2-Abschlussprojekt\"]\n",
    "    return db[collection]"
   ]
  },
  {
   "cell_type": "code",
   "execution_count": 3,
   "id": "323795fd-05c2-4e14-ab31-b8e605193594",
   "metadata": {},
   "outputs": [],
   "source": [
    "def get_semester(id):\n",
    "    collection = connect_to_db(\"Semester_Data\")\n",
    "    return collection.find_one({\"_id\":ObjectId(id)})"
   ]
  },
  {
   "cell_type": "code",
   "execution_count": 4,
   "id": "56933e7d-7e7a-42dd-84ee-c03d1baaac95",
   "metadata": {},
   "outputs": [],
   "source": [
    "def get_student(id):\n",
    "    collection = connect_to_db(\"Base_Data\")\n",
    "    return collection.find_one({\"_id\":ObjectId(id)})"
   ]
  },
  {
   "cell_type": "code",
   "execution_count": 5,
   "id": "ffd0a43b-fd59-44ac-a0cc-329d1351ef8a",
   "metadata": {},
   "outputs": [],
   "source": [
    "def get_api_key():\n",
    "    dotenv.load_dotenv()\n",
    "    os.getenv(\"OPENAI_APIKEY\")\n",
    "    return os.getenv(\"OPENAI_APIKEY\")"
   ]
  },
  {
   "cell_type": "code",
   "execution_count": 6,
   "id": "9b287576-7917-482c-96f5-31a56829aa32",
   "metadata": {},
   "outputs": [],
   "source": [
    "def _openai(messages, chain=True) -> openai.types.chat.chat_completion.Choice:\n",
    "    \"\"\"\n",
    "    Request is sent to OpenAI\n",
    "    Return the response in a ChatCompletion-Object\n",
    "    \"\"\"\n",
    "    openai.api_key = get_api_key()\n",
    "    model_result = openai.chat.completions.create(\n",
    "        model=\"gpt-3.5-turbo\",\n",
    "        messages=messages,\n",
    "        temperature=0.2,\n",
    "        top_p=1,\n",
    "    )\n",
    "    response = model_result.choices[0]\n",
    "    if chain:\n",
    "        chain = messages + [response.message]\n",
    "        return response.message.content, chain\n",
    "    return response.message.content"
   ]
  },
  {
   "cell_type": "code",
   "execution_count": 7,
   "id": "0466e861-467d-473b-b298-263f4569dfc0",
   "metadata": {},
   "outputs": [],
   "source": [
    "def anonymise(student, text):\n",
    "    if student[\"gender\"].lower()==\"männlich\":\n",
    "        aliasname = \"John\"\n",
    "    else:\n",
    "        aliasname = \"Jane\"\n",
    "    alias_text = text.replace(student[\"firstname\"], aliasname)\n",
    "    return alias_text"
   ]
  },
  {
   "cell_type": "code",
   "execution_count": 8,
   "id": "0a39cdc5-906d-4779-b555-d7e7664a195c",
   "metadata": {},
   "outputs": [],
   "source": [
    "def deanonymise(student, text):\n",
    "    if student[\"gender\"].lower()==\"männlich\":\n",
    "        aliasname = \"John\"\n",
    "    else:\n",
    "        aliasname = \"Jane\"\n",
    "    alias_text = text.replace(aliasname, student[\"firstname\"])\n",
    "    return alias_text"
   ]
  },
  {
   "cell_type": "code",
   "execution_count": 9,
   "id": "460b6879-c01a-4deb-93ae-14e406409e4a",
   "metadata": {},
   "outputs": [],
   "source": [
    "def format_prompt_content(semester, student):\n",
    "    allgemeines_lernen = {\n",
    "        \"AktivTeilnehmen\": 'aktiv am Unterricht teilnehmen',\n",
    "        \"LeistungZeigen\": 'im Unterricht Leistung zeigen',\n",
    "        \"AufmerksamSein\": 'während dem Unterricht Aufmerksam sein und den Instruktionen der Lehrperson folgen',\n",
    "        \"SchulinhalteMerken\": 'sich schulische Inhalte merken',\n",
    "        \"SchulinhalteAbrufen\": 'schulische Inhalte bei Bedarf abrufen',\n",
    "    }\n",
    "    assessment = semester[\"final_assessment\"][\"allgemeines_lernen\"]\n",
    "    text = \"\\n\".join(\n",
    "        f\" - {student['firstname']} kann {v['assessment']} {allgemeines_lernen[k]} {v['notes']}\"\n",
    "        for k, v in assessment.items()\n",
    "    )\n",
    "    return anonymise(student, text)"
   ]
  },
  {
   "cell_type": "code",
   "execution_count": 10,
   "id": "cef61f11-e903-420f-9f9f-d0ec45fc8cb4",
   "metadata": {},
   "outputs": [],
   "source": [
    "def prompt_for_textgeneration(semester, student):\n",
    "    system_content = f\"\"\"\n",
    "    Du wirst eine Evaluation eines Schülers oder einer Schülerin bekommen.\n",
    "    Die Evaluation wird in kurzen einfachen Sätzen sein.\n",
    "    Dein Task ist es, diese Sätze zu einem Fliesstext zusammenzubringen.\n",
    "    Der Fliesstext soll professionell sein.\n",
    "    Der Fliesstext soll nur Informationen enthalten, die von der Evaluation mitgegeben werden.\n",
    "    Der Fliesstext soll die Schweizer Rechtschreibung nutzen, das heisst, Scharf-S wird durch Doppel-S ersetzt.\n",
    "    \"\"\"\n",
    "    first_prompt = f\"\"\"\n",
    "    Bitte mache aus der folgenden Einschätzung einen professionellen Fliesstext:\n",
    "    {format_prompt_content(semester, student)}\n",
    "    \"\"\"\n",
    "    return [\n",
    "        {\n",
    "            \"role\": \"system\",\n",
    "            \"content\": system_content\n",
    "        },\n",
    "        {\n",
    "            \"role\": \"user\",\n",
    "            \"content\": \"\"\"\n",
    "    John Doe kann gut aktiv am Unterricht teilnehmen.\n",
    "    John Doe kann gut im schulischen Umfeld Leistung zeigen.\n",
    "    John Doe kann nicht immer während des Unterrichts Aufmerksam sein und den Instruktionen der Lehrperson folgen.\n",
    "    John Doe kann teilweise sich schulische Inhalte merken.\n",
    "    John Doe kann noch nicht schulische Inhalte bei Bedarf abrufen.\n",
    "            \"\"\"\n",
    "        },\n",
    "        {\n",
    "            \"role\": \"assistant\",\n",
    "            \"content\": \"\"\"\n",
    "    John Doe gelingt es gut, aktiv am Unterricht teilzunehmen.\n",
    "    Ausserdem zeigt er meist gute Leistungen im schulischen Umfeld.\n",
    "    Er kann jedoch während des Unterrichts nicht immer Aufmerksam sein und den Instruktionen der Lehrperson folgen.\n",
    "    Ausserdem hat John Doe teilweise Mühe, sich schulische Inhalte zu merken.\n",
    "    Auch gelingt es ihm noch nicht, die gemerkten Inhalte bei Bedarf abzurufen.\n",
    "            \"\"\"\n",
    "        },\n",
    "        {\n",
    "            \"role\": \"user\",\n",
    "            \"content\": \"\"\"\n",
    "    Jane Doe kann teilweise aktiv am Unterricht teilnehmen.\n",
    "    Jane Doe kann nicht immer im schulischen Umfeld Leistung zeigen.\n",
    "    Jane Doe kann gut während des Unterrichts Aufmerksam sein und den Instruktionen der Lehrperson folgen.\n",
    "    Jane Doe kann gut sich schulische Inhalte merken.\n",
    "    Jane Doe kann teilweise schulische Inhalte bei Bedarf abrufen.\n",
    "            \"\"\"\n",
    "        },\n",
    "        {\n",
    "            \"role\": \"assistant\",\n",
    "            \"content\": \"\"\"\n",
    "    Jane Doe kann nur teilweise aktiv am Unterricht teilnehmen.\n",
    "    Nicht immer gelingt es ihr im schulischen Umfeld Leistungen zu zeigen.\n",
    "    Sie kann jedoch gut während des Unterrichts Aufmerksam sein und den Instruktionen der Lehrperson folgen.\n",
    "    Ausserdem merkt sie sich schulische Inhalte gut, kann diese jedoch nur teilweise bei Bedarf abrufen.\n",
    "            \"\"\"\n",
    "        },\n",
    "        {\n",
    "            \"role\": \"user\",\n",
    "            \"content\": first_prompt\n",
    "        },\n",
    "    ]"
   ]
  },
  {
   "cell_type": "code",
   "execution_count": 11,
   "id": "63f10625-9d1e-4747-a616-febb0da9c051",
   "metadata": {},
   "outputs": [],
   "source": [
    "def get_first_text(data):\n",
    "    messages = prompt_for_textgeneration(data[\"semester\"], data[\"student\"])\n",
    "    print(messages) # to check, if anonymise() worked\n",
    "    answer, chain = _openai(messages)\n",
    "    return deanonymise(data[\"student\"], answer), chain"
   ]
  },
  {
   "cell_type": "code",
   "execution_count": 13,
   "id": "09953ef1-c968-4a47-9763-9342d9901347",
   "metadata": {},
   "outputs": [],
   "source": [
    "def prompt_for_follow_up(chain, prompt):\n",
    "    chain.append({\n",
    "        \"role\":\"user\",\n",
    "        \"content\":prompt\n",
    "    })"
   ]
  },
  {
   "cell_type": "code",
   "execution_count": 14,
   "id": "6e622db0-3975-440c-83ed-7f00cc79b1e1",
   "metadata": {},
   "outputs": [],
   "source": [
    "def get_other_text(data):\n",
    "    prompt_for_follow_up(data[\"chain\"], anonymise(data[\"student\"], data[\"prompt\"]))\n",
    "    print(\"Checkpoint D: \", data[\"chain\"]) # to check, if anonymise() worked\n",
    "    answer, chain = _openai(messages)\n",
    "    return deanonymise(data[\"student\"], answer), chain"
   ]
  },
  {
   "cell_type": "code",
   "execution_count": 15,
   "id": "337ef53a-1709-4c78-b532-fe7428c6bc87",
   "metadata": {},
   "outputs": [
    {
     "ename": "TypeError",
     "evalue": "'NoneType' object is not subscriptable",
     "output_type": "error",
     "traceback": [
      "\u001b[0;31m---------------------------------------------------------------------------\u001b[0m",
      "\u001b[0;31mTypeError\u001b[0m                                 Traceback (most recent call last)",
      "Cell \u001b[0;32mIn[15], line 2\u001b[0m\n\u001b[1;32m      1\u001b[0m semester \u001b[38;5;241m=\u001b[39m get_semester(\u001b[38;5;124m\"\u001b[39m\u001b[38;5;124m666159b1129b60e0dd53c2e1\u001b[39m\u001b[38;5;124m\"\u001b[39m)\n\u001b[0;32m----> 2\u001b[0m student \u001b[38;5;241m=\u001b[39m get_student(\u001b[43msemester\u001b[49m\u001b[43m[\u001b[49m\u001b[38;5;124;43m\"\u001b[39;49m\u001b[38;5;124;43mstudent_id\u001b[39;49m\u001b[38;5;124;43m\"\u001b[39;49m\u001b[43m]\u001b[49m)\n",
      "\u001b[0;31mTypeError\u001b[0m: 'NoneType' object is not subscriptable"
     ]
    }
   ],
   "source": [
    "semester = get_semester(\"666159b1129b60e0dd53c2e1\")\n",
    "student = get_student(semester[\"student_id\"])"
   ]
  },
  {
   "cell_type": "code",
   "execution_count": 21,
   "id": "ae4d0411-8432-4244-8b42-e798dc05d2b2",
   "metadata": {},
   "outputs": [],
   "source": [
    "data1 = {\n",
    "    \"semester\":semester,\n",
    "    \"student\":student,\n",
    "}"
   ]
  },
  {
   "cell_type": "code",
   "execution_count": 27,
   "id": "3e5b0c36-b9df-4b24-b7d1-e98b18bc0ddc",
   "metadata": {},
   "outputs": [
    {
     "name": "stdout",
     "output_type": "stream",
     "text": [
      "[{'role': 'system', 'content': '\\n    Du wirst eine Evaluation eines Schülers oder einer Schülerin bekommen.\\n    Die Evaluation wird in kurzen einfachen Sätzen sein.\\n    Dein Task ist es, diese Sätze zu einem Fliesstext zusammenzubringen.\\n    Der Fliesstext soll professionell sein.\\n    Der Fliesstext soll nur Informationen enthalten, die von der Evaluation mitgegeben werden.\\n    Der Fliesstext soll die Schweizer Rechtschreibung nutzen, das heisst, Scharf-S wird durch Doppel-S ersetzt.\\n    '}, {'role': 'user', 'content': '\\n    John Doe kann gut aktiv am Unterricht teilnehmen.\\n    John Doe kann gut im schulischen Umfeld Leistung zeigen.\\n    John Doe kann nicht immer während des Unterrichts Aufmerksam sein und den Instruktionen der Lehrperson folgen.\\n    John Doe kann teilweise sich schulische Inhalte merken.\\n    John Doe kann noch nicht schulische Inhalte bei Bedarf abrufen.\\n            '}, {'role': 'assistant', 'content': '\\n    John Doe gelingt es gut, aktiv am Unterricht teilzunehmen.\\n    Ausserdem zeigt er meist gute Leistungen im schulischen Umfeld.\\n    Er kann jedoch während des Unterrichts nicht immer Aufmerksam sein und den Instruktionen der Lehrperson folgen.\\n    Ausserdem hat John Doe teilweise Mühe, sich schulische Inhalte zu merken.\\n    Auch gelingt es ihm noch nicht, die gemerkten Inhalte bei Bedarf abzurufen.\\n            '}, {'role': 'user', 'content': '\\n    Jane Doe kann teilweise aktiv am Unterricht teilnehmen.\\n    Jane Doe kann nicht immer im schulischen Umfeld Leistung zeigen.\\n    Jane Doe kann gut während des Unterrichts Aufmerksam sein und den Instruktionen der Lehrperson folgen.\\n    Jane Doe kann gut sich schulische Inhalte merken.\\n    Jane Doe kann teilweise schulische Inhalte bei Bedarf abrufen.\\n            '}, {'role': 'assistant', 'content': '\\n    Jane Doe kann nur teilweise aktiv am Unterricht teilnehmen.\\n    Nicht immer gelingt es ihr im schulischen Umfeld Leistungen zu zeigen.\\n    Sie kann jedoch gut während des Unterrichts Aufmerksam sein und den Instruktionen der Lehrperson folgen.\\n    Ausserdem merkt sie sich schulische Inhalte gut, kann diese jedoch nur teilweise bei Bedarf abrufen.\\n            '}, {'role': 'user', 'content': \"\\n    Bitte mache aus der folgenden Einschätzung einen professionellen Fliesstext:\\n     - John kann sehr gut aktiv am Unterricht teilnehmen John hat viele schulische Interessen und ist in der Schule meist aktiv, insbesondere in Physik und Chemie ist er sehr engagiert.\\n - John kann gut im Unterricht Leistung zeigen teilweise könnte er noch etwas mehr Leistung zeigen, wenn er rechtzeit lernen würde\\n - John kann gut während dem Unterricht Aufmerksam sein und den Instruktionen der Lehrperson folgen ['In der Regel ist John im Unterricht aufmerksam und konzentriert. Es kann jedoch vorkommen, dass er manchmal etwas abgelenkt wirkt.']\\n - John kann teilweise sich schulische Inhalte merken Er vegisst nach den Prüfungen vieles\\n - John kann nicht immer schulische Inhalte bei Bedarf abrufen ['Gelegentlich fällt es John schwer, sein Wissen bei Prüfungen abzurufen. Manchmal hat er Schwierigkeiten, sein volles Potenzial zu zeigen.']\\n    \"}]\n"
     ]
    }
   ],
   "source": [
    "answer, chain = get_first_text(data1)"
   ]
  },
  {
   "cell_type": "code",
   "execution_count": 33,
   "id": "e7cc47ef-4364-4219-8d37-d8a0bd0fc6cd",
   "metadata": {},
   "outputs": [],
   "source": [
    "prompt = \"Könntest Du zusätzlich zu Physik und Chemie noch Geografie und Geschichte schreiben?\""
   ]
  },
  {
   "cell_type": "code",
   "execution_count": 34,
   "id": "72a618ce-4d2d-49eb-9c5e-31fcb33e5572",
   "metadata": {},
   "outputs": [],
   "source": [
    "data2 = {\n",
    "    \"semester\":semester,\n",
    "    \"student\":student,\n",
    "    \"chain\":chain,\n",
    "    \"prompt\":prompt,\n",
    "}"
   ]
  },
  {
   "cell_type": "code",
   "execution_count": 37,
   "id": "808aa11c-191b-4a36-901f-352650feef57",
   "metadata": {},
   "outputs": [],
   "source": [
    "chain.append({\"role\":\"user\", \"content\":\"TestTest\"})"
   ]
  },
  {
   "cell_type": "code",
   "execution_count": 30,
   "id": "0315968b-9149-434e-96e5-35f499b9b243",
   "metadata": {
    "scrolled": true
   },
   "outputs": [
    {
     "name": "stdout",
     "output_type": "stream",
     "text": [
      "Checkpoint A:  [{'role': 'system', 'content': '\\n    Du wirst eine Evaluation eines Schülers oder einer Schülerin bekommen.\\n    Die Evaluation wird in kurzen einfachen Sätzen sein.\\n    Dein Task ist es, diese Sätze zu einem Fliesstext zusammenzubringen.\\n    Der Fliesstext soll professionell sein.\\n    Der Fliesstext soll nur Informationen enthalten, die von der Evaluation mitgegeben werden.\\n    Der Fliesstext soll die Schweizer Rechtschreibung nutzen, das heisst, Scharf-S wird durch Doppel-S ersetzt.\\n    '}, {'role': 'user', 'content': '\\n    John Doe kann gut aktiv am Unterricht teilnehmen.\\n    John Doe kann gut im schulischen Umfeld Leistung zeigen.\\n    John Doe kann nicht immer während des Unterrichts Aufmerksam sein und den Instruktionen der Lehrperson folgen.\\n    John Doe kann teilweise sich schulische Inhalte merken.\\n    John Doe kann noch nicht schulische Inhalte bei Bedarf abrufen.\\n            '}, {'role': 'assistant', 'content': '\\n    John Doe gelingt es gut, aktiv am Unterricht teilzunehmen.\\n    Ausserdem zeigt er meist gute Leistungen im schulischen Umfeld.\\n    Er kann jedoch während des Unterrichts nicht immer Aufmerksam sein und den Instruktionen der Lehrperson folgen.\\n    Ausserdem hat John Doe teilweise Mühe, sich schulische Inhalte zu merken.\\n    Auch gelingt es ihm noch nicht, die gemerkten Inhalte bei Bedarf abzurufen.\\n            '}, {'role': 'user', 'content': '\\n    Jane Doe kann teilweise aktiv am Unterricht teilnehmen.\\n    Jane Doe kann nicht immer im schulischen Umfeld Leistung zeigen.\\n    Jane Doe kann gut während des Unterrichts Aufmerksam sein und den Instruktionen der Lehrperson folgen.\\n    Jane Doe kann gut sich schulische Inhalte merken.\\n    Jane Doe kann teilweise schulische Inhalte bei Bedarf abrufen.\\n            '}, {'role': 'assistant', 'content': '\\n    Jane Doe kann nur teilweise aktiv am Unterricht teilnehmen.\\n    Nicht immer gelingt es ihr im schulischen Umfeld Leistungen zu zeigen.\\n    Sie kann jedoch gut während des Unterrichts Aufmerksam sein und den Instruktionen der Lehrperson folgen.\\n    Ausserdem merkt sie sich schulische Inhalte gut, kann diese jedoch nur teilweise bei Bedarf abrufen.\\n            '}, {'role': 'user', 'content': \"\\n    Bitte mache aus der folgenden Einschätzung einen professionellen Fliesstext:\\n     - John kann sehr gut aktiv am Unterricht teilnehmen John hat viele schulische Interessen und ist in der Schule meist aktiv, insbesondere in Physik und Chemie ist er sehr engagiert.\\n - John kann gut im Unterricht Leistung zeigen teilweise könnte er noch etwas mehr Leistung zeigen, wenn er rechtzeit lernen würde\\n - John kann gut während dem Unterricht Aufmerksam sein und den Instruktionen der Lehrperson folgen ['In der Regel ist John im Unterricht aufmerksam und konzentriert. Es kann jedoch vorkommen, dass er manchmal etwas abgelenkt wirkt.']\\n - John kann teilweise sich schulische Inhalte merken Er vegisst nach den Prüfungen vieles\\n - John kann nicht immer schulische Inhalte bei Bedarf abrufen ['Gelegentlich fällt es John schwer, sein Wissen bei Prüfungen abzurufen. Manchmal hat er Schwierigkeiten, sein volles Potenzial zu zeigen.']\\n    \"}, ChatCompletionMessage(content='John kann sehr gut aktiv am Unterricht teilnehmen und zeigt viele schulische Interessen. Besonders in den Fächern Physik und Chemie ist er sehr engagiert. Er kann auch im Unterricht Leistung zeigen, wobei noch Potenzial besteht, mehr zu leisten, wenn er rechtzeitig lernt. John ist in der Regel aufmerksam und konzentriert im Unterricht, obwohl er manchmal etwas abgelenkt wirken kann. Er hat teilweise Schwierigkeiten, sich schulische Inhalte zu merken, da er nach Prüfungen vieles vergisst. Zudem fällt es ihm gelegentlich schwer, sein Wissen bei Prüfungen abzurufen und sein volles Potenzial zu zeigen.', role='assistant', function_call=None, tool_calls=None)]\n",
      "Checkpoint B:  Könntest Du zusätzlich zu Physik und Chemie noch Geografie und Geschichte schreiben?\n",
      "Checkpoint C:  None\n",
      "Checkpoint D:  None\n"
     ]
    },
    {
     "ename": "BadRequestError",
     "evalue": "Error code: 400 - {'error': {'message': \"Invalid type for 'messages': expected an array of objects, but got null instead.\", 'type': 'invalid_request_error', 'param': 'messages', 'code': 'invalid_type'}}",
     "output_type": "error",
     "traceback": [
      "\u001b[0;31m---------------------------------------------------------------------------\u001b[0m",
      "\u001b[0;31mBadRequestError\u001b[0m                           Traceback (most recent call last)",
      "Cell \u001b[0;32mIn[30], line 1\u001b[0m\n\u001b[0;32m----> 1\u001b[0m new_answer, new_chain \u001b[38;5;241m=\u001b[39m \u001b[43mget_other_text\u001b[49m\u001b[43m(\u001b[49m\u001b[43mdata2\u001b[49m\u001b[43m)\u001b[49m\n",
      "Cell \u001b[0;32mIn[19], line 6\u001b[0m, in \u001b[0;36mget_other_text\u001b[0;34m(data)\u001b[0m\n\u001b[1;32m      4\u001b[0m messages \u001b[38;5;241m=\u001b[39m prompt_for_follow_up(data[\u001b[38;5;124m\"\u001b[39m\u001b[38;5;124mchain\u001b[39m\u001b[38;5;124m\"\u001b[39m], anonymise(data[\u001b[38;5;124m\"\u001b[39m\u001b[38;5;124mstudent\u001b[39m\u001b[38;5;124m\"\u001b[39m], data[\u001b[38;5;124m\"\u001b[39m\u001b[38;5;124mprompt\u001b[39m\u001b[38;5;124m\"\u001b[39m]))\n\u001b[1;32m      5\u001b[0m \u001b[38;5;28mprint\u001b[39m(\u001b[38;5;124m\"\u001b[39m\u001b[38;5;124mCheckpoint D: \u001b[39m\u001b[38;5;124m\"\u001b[39m, messages) \u001b[38;5;66;03m# to check, if anonymise() worked\u001b[39;00m\n\u001b[0;32m----> 6\u001b[0m answer, chain \u001b[38;5;241m=\u001b[39m \u001b[43m_openai\u001b[49m\u001b[43m(\u001b[49m\u001b[43mmessages\u001b[49m\u001b[43m)\u001b[49m\n\u001b[1;32m      7\u001b[0m \u001b[38;5;28;01mreturn\u001b[39;00m deanonymise(data[\u001b[38;5;124m\"\u001b[39m\u001b[38;5;124mstudent\u001b[39m\u001b[38;5;124m\"\u001b[39m], answer), chain\n",
      "Cell \u001b[0;32mIn[24], line 7\u001b[0m, in \u001b[0;36m_openai\u001b[0;34m(messages, chain)\u001b[0m\n\u001b[1;32m      2\u001b[0m \u001b[38;5;250m\u001b[39m\u001b[38;5;124;03m\"\"\"\u001b[39;00m\n\u001b[1;32m      3\u001b[0m \u001b[38;5;124;03mRequest is sent to OpenAI\u001b[39;00m\n\u001b[1;32m      4\u001b[0m \u001b[38;5;124;03mReturn the response in a ChatCompletion-Object\u001b[39;00m\n\u001b[1;32m      5\u001b[0m \u001b[38;5;124;03m\"\"\"\u001b[39;00m\n\u001b[1;32m      6\u001b[0m openai\u001b[38;5;241m.\u001b[39mapi_key \u001b[38;5;241m=\u001b[39m get_api_key()\n\u001b[0;32m----> 7\u001b[0m model_result \u001b[38;5;241m=\u001b[39m \u001b[43mopenai\u001b[49m\u001b[38;5;241;43m.\u001b[39;49m\u001b[43mchat\u001b[49m\u001b[38;5;241;43m.\u001b[39;49m\u001b[43mcompletions\u001b[49m\u001b[38;5;241;43m.\u001b[39;49m\u001b[43mcreate\u001b[49m\u001b[43m(\u001b[49m\n\u001b[1;32m      8\u001b[0m \u001b[43m    \u001b[49m\u001b[43mmodel\u001b[49m\u001b[38;5;241;43m=\u001b[39;49m\u001b[38;5;124;43m\"\u001b[39;49m\u001b[38;5;124;43mgpt-3.5-turbo\u001b[39;49m\u001b[38;5;124;43m\"\u001b[39;49m\u001b[43m,\u001b[49m\n\u001b[1;32m      9\u001b[0m \u001b[43m    \u001b[49m\u001b[43mmessages\u001b[49m\u001b[38;5;241;43m=\u001b[39;49m\u001b[43mmessages\u001b[49m\u001b[43m,\u001b[49m\n\u001b[1;32m     10\u001b[0m \u001b[43m    \u001b[49m\u001b[43mtemperature\u001b[49m\u001b[38;5;241;43m=\u001b[39;49m\u001b[38;5;241;43m0.2\u001b[39;49m\u001b[43m,\u001b[49m\n\u001b[1;32m     11\u001b[0m \u001b[43m    \u001b[49m\u001b[43mtop_p\u001b[49m\u001b[38;5;241;43m=\u001b[39;49m\u001b[38;5;241;43m1\u001b[39;49m\u001b[43m,\u001b[49m\n\u001b[1;32m     12\u001b[0m \u001b[43m\u001b[49m\u001b[43m)\u001b[49m\n\u001b[1;32m     13\u001b[0m response \u001b[38;5;241m=\u001b[39m model_result\u001b[38;5;241m.\u001b[39mchoices[\u001b[38;5;241m0\u001b[39m]\n\u001b[1;32m     14\u001b[0m \u001b[38;5;28;01mif\u001b[39;00m chain:\n",
      "File \u001b[0;32m~/.pyenv/versions/3.11.4/Library/Frameworks/Python.framework/Versions/3.11/lib/python3.11/site-packages/openai/_utils/_utils.py:275\u001b[0m, in \u001b[0;36mrequired_args.<locals>.inner.<locals>.wrapper\u001b[0;34m(*args, **kwargs)\u001b[0m\n\u001b[1;32m    273\u001b[0m             msg \u001b[38;5;241m=\u001b[39m \u001b[38;5;124mf\u001b[39m\u001b[38;5;124m\"\u001b[39m\u001b[38;5;124mMissing required argument: \u001b[39m\u001b[38;5;132;01m{\u001b[39;00mquote(missing[\u001b[38;5;241m0\u001b[39m])\u001b[38;5;132;01m}\u001b[39;00m\u001b[38;5;124m\"\u001b[39m\n\u001b[1;32m    274\u001b[0m     \u001b[38;5;28;01mraise\u001b[39;00m \u001b[38;5;167;01mTypeError\u001b[39;00m(msg)\n\u001b[0;32m--> 275\u001b[0m \u001b[38;5;28;01mreturn\u001b[39;00m \u001b[43mfunc\u001b[49m\u001b[43m(\u001b[49m\u001b[38;5;241;43m*\u001b[39;49m\u001b[43margs\u001b[49m\u001b[43m,\u001b[49m\u001b[43m \u001b[49m\u001b[38;5;241;43m*\u001b[39;49m\u001b[38;5;241;43m*\u001b[39;49m\u001b[43mkwargs\u001b[49m\u001b[43m)\u001b[49m\n",
      "File \u001b[0;32m~/.pyenv/versions/3.11.4/Library/Frameworks/Python.framework/Versions/3.11/lib/python3.11/site-packages/openai/resources/chat/completions.py:663\u001b[0m, in \u001b[0;36mCompletions.create\u001b[0;34m(self, messages, model, frequency_penalty, function_call, functions, logit_bias, logprobs, max_tokens, n, presence_penalty, response_format, seed, stop, stream, temperature, tool_choice, tools, top_logprobs, top_p, user, extra_headers, extra_query, extra_body, timeout)\u001b[0m\n\u001b[1;32m    611\u001b[0m \u001b[38;5;129m@required_args\u001b[39m([\u001b[38;5;124m\"\u001b[39m\u001b[38;5;124mmessages\u001b[39m\u001b[38;5;124m\"\u001b[39m, \u001b[38;5;124m\"\u001b[39m\u001b[38;5;124mmodel\u001b[39m\u001b[38;5;124m\"\u001b[39m], [\u001b[38;5;124m\"\u001b[39m\u001b[38;5;124mmessages\u001b[39m\u001b[38;5;124m\"\u001b[39m, \u001b[38;5;124m\"\u001b[39m\u001b[38;5;124mmodel\u001b[39m\u001b[38;5;124m\"\u001b[39m, \u001b[38;5;124m\"\u001b[39m\u001b[38;5;124mstream\u001b[39m\u001b[38;5;124m\"\u001b[39m])\n\u001b[1;32m    612\u001b[0m \u001b[38;5;28;01mdef\u001b[39;00m \u001b[38;5;21mcreate\u001b[39m(\n\u001b[1;32m    613\u001b[0m     \u001b[38;5;28mself\u001b[39m,\n\u001b[0;32m   (...)\u001b[0m\n\u001b[1;32m    661\u001b[0m     timeout: \u001b[38;5;28mfloat\u001b[39m \u001b[38;5;241m|\u001b[39m httpx\u001b[38;5;241m.\u001b[39mTimeout \u001b[38;5;241m|\u001b[39m \u001b[38;5;28;01mNone\u001b[39;00m \u001b[38;5;241m|\u001b[39m NotGiven \u001b[38;5;241m=\u001b[39m NOT_GIVEN,\n\u001b[1;32m    662\u001b[0m ) \u001b[38;5;241m-\u001b[39m\u001b[38;5;241m>\u001b[39m ChatCompletion \u001b[38;5;241m|\u001b[39m Stream[ChatCompletionChunk]:\n\u001b[0;32m--> 663\u001b[0m     \u001b[38;5;28;01mreturn\u001b[39;00m \u001b[38;5;28;43mself\u001b[39;49m\u001b[38;5;241;43m.\u001b[39;49m\u001b[43m_post\u001b[49m\u001b[43m(\u001b[49m\n\u001b[1;32m    664\u001b[0m \u001b[43m        \u001b[49m\u001b[38;5;124;43m\"\u001b[39;49m\u001b[38;5;124;43m/chat/completions\u001b[39;49m\u001b[38;5;124;43m\"\u001b[39;49m\u001b[43m,\u001b[49m\n\u001b[1;32m    665\u001b[0m \u001b[43m        \u001b[49m\u001b[43mbody\u001b[49m\u001b[38;5;241;43m=\u001b[39;49m\u001b[43mmaybe_transform\u001b[49m\u001b[43m(\u001b[49m\n\u001b[1;32m    666\u001b[0m \u001b[43m            \u001b[49m\u001b[43m{\u001b[49m\n\u001b[1;32m    667\u001b[0m \u001b[43m                \u001b[49m\u001b[38;5;124;43m\"\u001b[39;49m\u001b[38;5;124;43mmessages\u001b[39;49m\u001b[38;5;124;43m\"\u001b[39;49m\u001b[43m:\u001b[49m\u001b[43m \u001b[49m\u001b[43mmessages\u001b[49m\u001b[43m,\u001b[49m\n\u001b[1;32m    668\u001b[0m \u001b[43m                \u001b[49m\u001b[38;5;124;43m\"\u001b[39;49m\u001b[38;5;124;43mmodel\u001b[39;49m\u001b[38;5;124;43m\"\u001b[39;49m\u001b[43m:\u001b[49m\u001b[43m \u001b[49m\u001b[43mmodel\u001b[49m\u001b[43m,\u001b[49m\n\u001b[1;32m    669\u001b[0m \u001b[43m                \u001b[49m\u001b[38;5;124;43m\"\u001b[39;49m\u001b[38;5;124;43mfrequency_penalty\u001b[39;49m\u001b[38;5;124;43m\"\u001b[39;49m\u001b[43m:\u001b[49m\u001b[43m \u001b[49m\u001b[43mfrequency_penalty\u001b[49m\u001b[43m,\u001b[49m\n\u001b[1;32m    670\u001b[0m \u001b[43m                \u001b[49m\u001b[38;5;124;43m\"\u001b[39;49m\u001b[38;5;124;43mfunction_call\u001b[39;49m\u001b[38;5;124;43m\"\u001b[39;49m\u001b[43m:\u001b[49m\u001b[43m \u001b[49m\u001b[43mfunction_call\u001b[49m\u001b[43m,\u001b[49m\n\u001b[1;32m    671\u001b[0m \u001b[43m                \u001b[49m\u001b[38;5;124;43m\"\u001b[39;49m\u001b[38;5;124;43mfunctions\u001b[39;49m\u001b[38;5;124;43m\"\u001b[39;49m\u001b[43m:\u001b[49m\u001b[43m \u001b[49m\u001b[43mfunctions\u001b[49m\u001b[43m,\u001b[49m\n\u001b[1;32m    672\u001b[0m \u001b[43m                \u001b[49m\u001b[38;5;124;43m\"\u001b[39;49m\u001b[38;5;124;43mlogit_bias\u001b[39;49m\u001b[38;5;124;43m\"\u001b[39;49m\u001b[43m:\u001b[49m\u001b[43m \u001b[49m\u001b[43mlogit_bias\u001b[49m\u001b[43m,\u001b[49m\n\u001b[1;32m    673\u001b[0m \u001b[43m                \u001b[49m\u001b[38;5;124;43m\"\u001b[39;49m\u001b[38;5;124;43mlogprobs\u001b[39;49m\u001b[38;5;124;43m\"\u001b[39;49m\u001b[43m:\u001b[49m\u001b[43m \u001b[49m\u001b[43mlogprobs\u001b[49m\u001b[43m,\u001b[49m\n\u001b[1;32m    674\u001b[0m \u001b[43m                \u001b[49m\u001b[38;5;124;43m\"\u001b[39;49m\u001b[38;5;124;43mmax_tokens\u001b[39;49m\u001b[38;5;124;43m\"\u001b[39;49m\u001b[43m:\u001b[49m\u001b[43m \u001b[49m\u001b[43mmax_tokens\u001b[49m\u001b[43m,\u001b[49m\n\u001b[1;32m    675\u001b[0m \u001b[43m                \u001b[49m\u001b[38;5;124;43m\"\u001b[39;49m\u001b[38;5;124;43mn\u001b[39;49m\u001b[38;5;124;43m\"\u001b[39;49m\u001b[43m:\u001b[49m\u001b[43m \u001b[49m\u001b[43mn\u001b[49m\u001b[43m,\u001b[49m\n\u001b[1;32m    676\u001b[0m \u001b[43m                \u001b[49m\u001b[38;5;124;43m\"\u001b[39;49m\u001b[38;5;124;43mpresence_penalty\u001b[39;49m\u001b[38;5;124;43m\"\u001b[39;49m\u001b[43m:\u001b[49m\u001b[43m \u001b[49m\u001b[43mpresence_penalty\u001b[49m\u001b[43m,\u001b[49m\n\u001b[1;32m    677\u001b[0m \u001b[43m                \u001b[49m\u001b[38;5;124;43m\"\u001b[39;49m\u001b[38;5;124;43mresponse_format\u001b[39;49m\u001b[38;5;124;43m\"\u001b[39;49m\u001b[43m:\u001b[49m\u001b[43m \u001b[49m\u001b[43mresponse_format\u001b[49m\u001b[43m,\u001b[49m\n\u001b[1;32m    678\u001b[0m \u001b[43m                \u001b[49m\u001b[38;5;124;43m\"\u001b[39;49m\u001b[38;5;124;43mseed\u001b[39;49m\u001b[38;5;124;43m\"\u001b[39;49m\u001b[43m:\u001b[49m\u001b[43m \u001b[49m\u001b[43mseed\u001b[49m\u001b[43m,\u001b[49m\n\u001b[1;32m    679\u001b[0m \u001b[43m                \u001b[49m\u001b[38;5;124;43m\"\u001b[39;49m\u001b[38;5;124;43mstop\u001b[39;49m\u001b[38;5;124;43m\"\u001b[39;49m\u001b[43m:\u001b[49m\u001b[43m \u001b[49m\u001b[43mstop\u001b[49m\u001b[43m,\u001b[49m\n\u001b[1;32m    680\u001b[0m \u001b[43m                \u001b[49m\u001b[38;5;124;43m\"\u001b[39;49m\u001b[38;5;124;43mstream\u001b[39;49m\u001b[38;5;124;43m\"\u001b[39;49m\u001b[43m:\u001b[49m\u001b[43m \u001b[49m\u001b[43mstream\u001b[49m\u001b[43m,\u001b[49m\n\u001b[1;32m    681\u001b[0m \u001b[43m                \u001b[49m\u001b[38;5;124;43m\"\u001b[39;49m\u001b[38;5;124;43mtemperature\u001b[39;49m\u001b[38;5;124;43m\"\u001b[39;49m\u001b[43m:\u001b[49m\u001b[43m \u001b[49m\u001b[43mtemperature\u001b[49m\u001b[43m,\u001b[49m\n\u001b[1;32m    682\u001b[0m \u001b[43m                \u001b[49m\u001b[38;5;124;43m\"\u001b[39;49m\u001b[38;5;124;43mtool_choice\u001b[39;49m\u001b[38;5;124;43m\"\u001b[39;49m\u001b[43m:\u001b[49m\u001b[43m \u001b[49m\u001b[43mtool_choice\u001b[49m\u001b[43m,\u001b[49m\n\u001b[1;32m    683\u001b[0m \u001b[43m                \u001b[49m\u001b[38;5;124;43m\"\u001b[39;49m\u001b[38;5;124;43mtools\u001b[39;49m\u001b[38;5;124;43m\"\u001b[39;49m\u001b[43m:\u001b[49m\u001b[43m \u001b[49m\u001b[43mtools\u001b[49m\u001b[43m,\u001b[49m\n\u001b[1;32m    684\u001b[0m \u001b[43m                \u001b[49m\u001b[38;5;124;43m\"\u001b[39;49m\u001b[38;5;124;43mtop_logprobs\u001b[39;49m\u001b[38;5;124;43m\"\u001b[39;49m\u001b[43m:\u001b[49m\u001b[43m \u001b[49m\u001b[43mtop_logprobs\u001b[49m\u001b[43m,\u001b[49m\n\u001b[1;32m    685\u001b[0m \u001b[43m                \u001b[49m\u001b[38;5;124;43m\"\u001b[39;49m\u001b[38;5;124;43mtop_p\u001b[39;49m\u001b[38;5;124;43m\"\u001b[39;49m\u001b[43m:\u001b[49m\u001b[43m \u001b[49m\u001b[43mtop_p\u001b[49m\u001b[43m,\u001b[49m\n\u001b[1;32m    686\u001b[0m \u001b[43m                \u001b[49m\u001b[38;5;124;43m\"\u001b[39;49m\u001b[38;5;124;43muser\u001b[39;49m\u001b[38;5;124;43m\"\u001b[39;49m\u001b[43m:\u001b[49m\u001b[43m \u001b[49m\u001b[43muser\u001b[49m\u001b[43m,\u001b[49m\n\u001b[1;32m    687\u001b[0m \u001b[43m            \u001b[49m\u001b[43m}\u001b[49m\u001b[43m,\u001b[49m\n\u001b[1;32m    688\u001b[0m \u001b[43m            \u001b[49m\u001b[43mcompletion_create_params\u001b[49m\u001b[38;5;241;43m.\u001b[39;49m\u001b[43mCompletionCreateParams\u001b[49m\u001b[43m,\u001b[49m\n\u001b[1;32m    689\u001b[0m \u001b[43m        \u001b[49m\u001b[43m)\u001b[49m\u001b[43m,\u001b[49m\n\u001b[1;32m    690\u001b[0m \u001b[43m        \u001b[49m\u001b[43moptions\u001b[49m\u001b[38;5;241;43m=\u001b[39;49m\u001b[43mmake_request_options\u001b[49m\u001b[43m(\u001b[49m\n\u001b[1;32m    691\u001b[0m \u001b[43m            \u001b[49m\u001b[43mextra_headers\u001b[49m\u001b[38;5;241;43m=\u001b[39;49m\u001b[43mextra_headers\u001b[49m\u001b[43m,\u001b[49m\u001b[43m \u001b[49m\u001b[43mextra_query\u001b[49m\u001b[38;5;241;43m=\u001b[39;49m\u001b[43mextra_query\u001b[49m\u001b[43m,\u001b[49m\u001b[43m \u001b[49m\u001b[43mextra_body\u001b[49m\u001b[38;5;241;43m=\u001b[39;49m\u001b[43mextra_body\u001b[49m\u001b[43m,\u001b[49m\u001b[43m \u001b[49m\u001b[43mtimeout\u001b[49m\u001b[38;5;241;43m=\u001b[39;49m\u001b[43mtimeout\u001b[49m\n\u001b[1;32m    692\u001b[0m \u001b[43m        \u001b[49m\u001b[43m)\u001b[49m\u001b[43m,\u001b[49m\n\u001b[1;32m    693\u001b[0m \u001b[43m        \u001b[49m\u001b[43mcast_to\u001b[49m\u001b[38;5;241;43m=\u001b[39;49m\u001b[43mChatCompletion\u001b[49m\u001b[43m,\u001b[49m\n\u001b[1;32m    694\u001b[0m \u001b[43m        \u001b[49m\u001b[43mstream\u001b[49m\u001b[38;5;241;43m=\u001b[39;49m\u001b[43mstream\u001b[49m\u001b[43m \u001b[49m\u001b[38;5;129;43;01mor\u001b[39;49;00m\u001b[43m \u001b[49m\u001b[38;5;28;43;01mFalse\u001b[39;49;00m\u001b[43m,\u001b[49m\n\u001b[1;32m    695\u001b[0m \u001b[43m        \u001b[49m\u001b[43mstream_cls\u001b[49m\u001b[38;5;241;43m=\u001b[39;49m\u001b[43mStream\u001b[49m\u001b[43m[\u001b[49m\u001b[43mChatCompletionChunk\u001b[49m\u001b[43m]\u001b[49m\u001b[43m,\u001b[49m\n\u001b[1;32m    696\u001b[0m \u001b[43m    \u001b[49m\u001b[43m)\u001b[49m\n",
      "File \u001b[0;32m~/.pyenv/versions/3.11.4/Library/Frameworks/Python.framework/Versions/3.11/lib/python3.11/site-packages/openai/_base_client.py:1200\u001b[0m, in \u001b[0;36mSyncAPIClient.post\u001b[0;34m(self, path, cast_to, body, options, files, stream, stream_cls)\u001b[0m\n\u001b[1;32m   1186\u001b[0m \u001b[38;5;28;01mdef\u001b[39;00m \u001b[38;5;21mpost\u001b[39m(\n\u001b[1;32m   1187\u001b[0m     \u001b[38;5;28mself\u001b[39m,\n\u001b[1;32m   1188\u001b[0m     path: \u001b[38;5;28mstr\u001b[39m,\n\u001b[0;32m   (...)\u001b[0m\n\u001b[1;32m   1195\u001b[0m     stream_cls: \u001b[38;5;28mtype\u001b[39m[_StreamT] \u001b[38;5;241m|\u001b[39m \u001b[38;5;28;01mNone\u001b[39;00m \u001b[38;5;241m=\u001b[39m \u001b[38;5;28;01mNone\u001b[39;00m,\n\u001b[1;32m   1196\u001b[0m ) \u001b[38;5;241m-\u001b[39m\u001b[38;5;241m>\u001b[39m ResponseT \u001b[38;5;241m|\u001b[39m _StreamT:\n\u001b[1;32m   1197\u001b[0m     opts \u001b[38;5;241m=\u001b[39m FinalRequestOptions\u001b[38;5;241m.\u001b[39mconstruct(\n\u001b[1;32m   1198\u001b[0m         method\u001b[38;5;241m=\u001b[39m\u001b[38;5;124m\"\u001b[39m\u001b[38;5;124mpost\u001b[39m\u001b[38;5;124m\"\u001b[39m, url\u001b[38;5;241m=\u001b[39mpath, json_data\u001b[38;5;241m=\u001b[39mbody, files\u001b[38;5;241m=\u001b[39mto_httpx_files(files), \u001b[38;5;241m*\u001b[39m\u001b[38;5;241m*\u001b[39moptions\n\u001b[1;32m   1199\u001b[0m     )\n\u001b[0;32m-> 1200\u001b[0m     \u001b[38;5;28;01mreturn\u001b[39;00m cast(ResponseT, \u001b[38;5;28;43mself\u001b[39;49m\u001b[38;5;241;43m.\u001b[39;49m\u001b[43mrequest\u001b[49m\u001b[43m(\u001b[49m\u001b[43mcast_to\u001b[49m\u001b[43m,\u001b[49m\u001b[43m \u001b[49m\u001b[43mopts\u001b[49m\u001b[43m,\u001b[49m\u001b[43m \u001b[49m\u001b[43mstream\u001b[49m\u001b[38;5;241;43m=\u001b[39;49m\u001b[43mstream\u001b[49m\u001b[43m,\u001b[49m\u001b[43m \u001b[49m\u001b[43mstream_cls\u001b[49m\u001b[38;5;241;43m=\u001b[39;49m\u001b[43mstream_cls\u001b[49m\u001b[43m)\u001b[49m)\n",
      "File \u001b[0;32m~/.pyenv/versions/3.11.4/Library/Frameworks/Python.framework/Versions/3.11/lib/python3.11/site-packages/openai/_base_client.py:889\u001b[0m, in \u001b[0;36mSyncAPIClient.request\u001b[0;34m(self, cast_to, options, remaining_retries, stream, stream_cls)\u001b[0m\n\u001b[1;32m    880\u001b[0m \u001b[38;5;28;01mdef\u001b[39;00m \u001b[38;5;21mrequest\u001b[39m(\n\u001b[1;32m    881\u001b[0m     \u001b[38;5;28mself\u001b[39m,\n\u001b[1;32m    882\u001b[0m     cast_to: Type[ResponseT],\n\u001b[0;32m   (...)\u001b[0m\n\u001b[1;32m    887\u001b[0m     stream_cls: \u001b[38;5;28mtype\u001b[39m[_StreamT] \u001b[38;5;241m|\u001b[39m \u001b[38;5;28;01mNone\u001b[39;00m \u001b[38;5;241m=\u001b[39m \u001b[38;5;28;01mNone\u001b[39;00m,\n\u001b[1;32m    888\u001b[0m ) \u001b[38;5;241m-\u001b[39m\u001b[38;5;241m>\u001b[39m ResponseT \u001b[38;5;241m|\u001b[39m _StreamT:\n\u001b[0;32m--> 889\u001b[0m     \u001b[38;5;28;01mreturn\u001b[39;00m \u001b[38;5;28;43mself\u001b[39;49m\u001b[38;5;241;43m.\u001b[39;49m\u001b[43m_request\u001b[49m\u001b[43m(\u001b[49m\n\u001b[1;32m    890\u001b[0m \u001b[43m        \u001b[49m\u001b[43mcast_to\u001b[49m\u001b[38;5;241;43m=\u001b[39;49m\u001b[43mcast_to\u001b[49m\u001b[43m,\u001b[49m\n\u001b[1;32m    891\u001b[0m \u001b[43m        \u001b[49m\u001b[43moptions\u001b[49m\u001b[38;5;241;43m=\u001b[39;49m\u001b[43moptions\u001b[49m\u001b[43m,\u001b[49m\n\u001b[1;32m    892\u001b[0m \u001b[43m        \u001b[49m\u001b[43mstream\u001b[49m\u001b[38;5;241;43m=\u001b[39;49m\u001b[43mstream\u001b[49m\u001b[43m,\u001b[49m\n\u001b[1;32m    893\u001b[0m \u001b[43m        \u001b[49m\u001b[43mstream_cls\u001b[49m\u001b[38;5;241;43m=\u001b[39;49m\u001b[43mstream_cls\u001b[49m\u001b[43m,\u001b[49m\n\u001b[1;32m    894\u001b[0m \u001b[43m        \u001b[49m\u001b[43mremaining_retries\u001b[49m\u001b[38;5;241;43m=\u001b[39;49m\u001b[43mremaining_retries\u001b[49m\u001b[43m,\u001b[49m\n\u001b[1;32m    895\u001b[0m \u001b[43m    \u001b[49m\u001b[43m)\u001b[49m\n",
      "File \u001b[0;32m~/.pyenv/versions/3.11.4/Library/Frameworks/Python.framework/Versions/3.11/lib/python3.11/site-packages/openai/_base_client.py:980\u001b[0m, in \u001b[0;36mSyncAPIClient._request\u001b[0;34m(self, cast_to, options, remaining_retries, stream, stream_cls)\u001b[0m\n\u001b[1;32m    977\u001b[0m         err\u001b[38;5;241m.\u001b[39mresponse\u001b[38;5;241m.\u001b[39mread()\n\u001b[1;32m    979\u001b[0m     log\u001b[38;5;241m.\u001b[39mdebug(\u001b[38;5;124m\"\u001b[39m\u001b[38;5;124mRe-raising status error\u001b[39m\u001b[38;5;124m\"\u001b[39m)\n\u001b[0;32m--> 980\u001b[0m     \u001b[38;5;28;01mraise\u001b[39;00m \u001b[38;5;28mself\u001b[39m\u001b[38;5;241m.\u001b[39m_make_status_error_from_response(err\u001b[38;5;241m.\u001b[39mresponse) \u001b[38;5;28;01mfrom\u001b[39;00m \u001b[38;5;28;01mNone\u001b[39;00m\n\u001b[1;32m    982\u001b[0m \u001b[38;5;28;01mreturn\u001b[39;00m \u001b[38;5;28mself\u001b[39m\u001b[38;5;241m.\u001b[39m_process_response(\n\u001b[1;32m    983\u001b[0m     cast_to\u001b[38;5;241m=\u001b[39mcast_to,\n\u001b[1;32m    984\u001b[0m     options\u001b[38;5;241m=\u001b[39moptions,\n\u001b[0;32m   (...)\u001b[0m\n\u001b[1;32m    987\u001b[0m     stream_cls\u001b[38;5;241m=\u001b[39mstream_cls,\n\u001b[1;32m    988\u001b[0m )\n",
      "\u001b[0;31mBadRequestError\u001b[0m: Error code: 400 - {'error': {'message': \"Invalid type for 'messages': expected an array of objects, but got null instead.\", 'type': 'invalid_request_error', 'param': 'messages', 'code': 'invalid_type'}}"
     ]
    }
   ],
   "source": [
    "new_answer, new_chain = get_other_text(data2)"
   ]
  },
  {
   "cell_type": "code",
   "execution_count": null,
   "id": "9d4d4ac0-adb9-4474-a776-7569c7c78ab5",
   "metadata": {},
   "outputs": [],
   "source": []
  }
 ],
 "metadata": {
  "kernelspec": {
   "display_name": "Python 3 (ipykernel)",
   "language": "python",
   "name": "python3"
  },
  "language_info": {
   "codemirror_mode": {
    "name": "ipython",
    "version": 3
   },
   "file_extension": ".py",
   "mimetype": "text/x-python",
   "name": "python",
   "nbconvert_exporter": "python",
   "pygments_lexer": "ipython3",
   "version": "3.11.4"
  }
 },
 "nbformat": 4,
 "nbformat_minor": 5
}
