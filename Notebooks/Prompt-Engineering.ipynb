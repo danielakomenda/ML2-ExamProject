{
 "cells": [
  {
   "cell_type": "code",
   "execution_count": 21,
   "id": "2ac06915-0517-46b3-9dbd-212176de1b1b",
   "metadata": {},
   "outputs": [],
   "source": [
    "import os\n",
    "from types import SimpleNamespace\n",
    "\n",
    "import dotenv\n",
    "import openai\n",
    "import pymongo\n",
    "import pycmarkgfm\n",
    "import numpy as np\n",
    "from IPython import display\n",
    "from ipywidgets import HTML\n",
    "from bson import ObjectId"
   ]
  },
  {
   "cell_type": "code",
   "execution_count": 22,
   "id": "8999ab7c-eac4-4fca-8171-f488cabd74f3",
   "metadata": {},
   "outputs": [],
   "source": [
    "def connect_to_db(collection):\n",
    "    dotenv.load_dotenv()\n",
    "    mongodb_uri = os.getenv(\"MONGODB_URI\")\n",
    "    DBclient = pymongo.MongoClient(mongodb_uri)\n",
    "    db = DBclient[\"ML2-Abschlussprojekt\"]\n",
    "    return db[collection]"
   ]
  },
  {
   "cell_type": "code",
   "execution_count": 23,
   "id": "323795fd-05c2-4e14-ab31-b8e605193594",
   "metadata": {},
   "outputs": [],
   "source": [
    "def get_semester(id):\n",
    "    collection = connect_to_db(\"Semester_Data\")\n",
    "    return collection.find_one({\"_id\":ObjectId(id)})"
   ]
  },
  {
   "cell_type": "code",
   "execution_count": 24,
   "id": "56933e7d-7e7a-42dd-84ee-c03d1baaac95",
   "metadata": {},
   "outputs": [],
   "source": [
    "def get_student(id):\n",
    "    collection = connect_to_db(\"Base_Data\")\n",
    "    return collection.find_one({\"_id\":ObjectId(id)})"
   ]
  },
  {
   "cell_type": "code",
   "execution_count": 25,
   "id": "0466e861-467d-473b-b298-263f4569dfc0",
   "metadata": {},
   "outputs": [],
   "source": [
    "def anonymise(student, text):\n",
    "    if student[\"gender\"].lower()==\"männlich\":\n",
    "        aliasname = \"[John]\"\n",
    "    else:\n",
    "        aliasname = \"[Jane]\"\n",
    "    alias_text = text.replace(student[\"firstname\"], aliasname)\n",
    "    \n",
    "    return alias_text"
   ]
  },
  {
   "cell_type": "code",
   "execution_count": 26,
   "id": "37c060ac-5abc-4f92-9077-b9c89c46aa13",
   "metadata": {},
   "outputs": [],
   "source": [
    "def format_prompt_content(semester, student):\n",
    "    allgemeines_lernen = {\n",
    "        \"AktivTeilnehmen\": 'aktiv am Unterricht teilnehmen',\n",
    "        \"LeistungZeigen\": 'im Unterricht Leistung zeigen',\n",
    "        \"AufmerksamSein\": 'während dem Unterricht Aufmerksam sein und den Instruktionen der Lehrperson folgen',\n",
    "        \"SchulinhalteMerken\": 'sich schulische Inhalte merken',\n",
    "        \"SchulinhalteAbrufen\": 'schulische Inhalte bei Bedarf abrufen',\n",
    "    }\n",
    "    assessment = semester[\"final_assessment\"][\"allgemeines_lernen\"]\n",
    "    text = \"\\n\".join(\n",
    "        f\" - {student['firstname']} kann {v['assessment']} {allgemeines_lernen[k]} {v['notes']}\"\n",
    "        for k, v in assessment.items()\n",
    "    )\n",
    "    return anonymise(student, text)"
   ]
  },
  {
   "cell_type": "code",
   "execution_count": 27,
   "id": "e0f58de9-f223-43f7-9361-aa100c1a4258",
   "metadata": {},
   "outputs": [],
   "source": [
    "semester = get_semester(\"665d8ff86ce65f51c7e17e34\")\n",
    "student = get_student(semester[\"student_id\"])"
   ]
  },
  {
   "cell_type": "code",
   "execution_count": 28,
   "id": "89447862-7095-4b78-ad4b-3fbe83899de2",
   "metadata": {},
   "outputs": [],
   "source": [
    "assessment_prompt = format_prompt_content(semester, student)"
   ]
  },
  {
   "cell_type": "code",
   "execution_count": 29,
   "id": "fc3faadc-40f7-4f61-b5e2-3e2c5bbd6ee8",
   "metadata": {},
   "outputs": [],
   "source": [
    "system_content = f\"\"\"\n",
    "Du wirst eine Evaluation eines Schülers oder einer Schülerin bekommen.\n",
    "Die Evaluation wird in kurzen einfachen Sätzen sein.\n",
    "Dein Task ist es, diese Sätze zu einem Fliesstext zusammenzubringen.\n",
    "Der Fliesstext soll professionell sein.\n",
    "Der Fliesstext soll nur Informationen enthalten, die von der Evaluation mitgegeben werden.\n",
    "Der Fliesstext soll die Schweizer Rechtschreibung nutzen, das heisst, Scharf-S wird durch Doppel-S ersetzt.\n",
    "\"\"\""
   ]
  },
  {
   "cell_type": "code",
   "execution_count": 30,
   "id": "f4cef307-6cd4-4d1b-bef5-8c9b6bf010a5",
   "metadata": {},
   "outputs": [],
   "source": [
    "first_prompt = f\"\"\"\n",
    "Bitte mache aus der folgenden Einschätzung einen professionellen Fliesstext:\n",
    "{assessment_prompt}\n",
    "\"\"\""
   ]
  },
  {
   "cell_type": "code",
   "execution_count": 31,
   "id": "148b5d44-c1ab-420e-a54c-ca86d61f5ae9",
   "metadata": {},
   "outputs": [],
   "source": [
    "messages = [\n",
    "    {\n",
    "        \"role\": \"system\",\n",
    "        \"content\": system_content\n",
    "    },\n",
    "    {\n",
    "        \"role\": \"user\",\n",
    "        \"content\": \"\"\"\n",
    "John Doe kann gut aktiv am Unterricht teilnehmen.\n",
    "John Doe kann gut im schulischen Umfeld Leistung zeigen.\n",
    "John Doe kann nicht immer während des Unterrichts Aufmerksam sein und den Instruktionen der Lehrperson folgen.\n",
    "John Doe kann teilweise sich schulische Inhalte merken.\n",
    "John Doe kann noch nicht schulische Inhalte bei Bedarf abrufen.\n",
    "        \"\"\"\n",
    "    },\n",
    "    {\n",
    "        \"role\": \"assistant\",\n",
    "        \"content\": \"\"\"\n",
    "John Doe gelingt es gut, aktiv am Unterricht teilzunehmen.\n",
    "Ausserdem zeigt er meist gute Leistungen im schulischen Umfeld.\n",
    "Er kann jedoch während des Unterrichts nicht immer Aufmerksam sein und den Instruktionen der Lehrperson folgen.\n",
    "Ausserdem hat John Doe teilweise Mühe, sich schulische Inhalte zu merken.\n",
    "Auch gelingt es ihm noch nicht, die gemerkten Inhalte bei Bedarf abzurufen.\n",
    "        \"\"\"\n",
    "    },\n",
    "    {\n",
    "        \"role\": \"user\",\n",
    "        \"content\": \"\"\"\n",
    "Jane Doe kann teilweise aktiv am Unterricht teilnehmen.\n",
    "Jane Doe kann nicht immer im schulischen Umfeld Leistung zeigen.\n",
    "Jane Doe kann gut während des Unterrichts Aufmerksam sein und den Instruktionen der Lehrperson folgen.\n",
    "Jane Doe kann gut sich schulische Inhalte merken.\n",
    "Jane Doe kann teilweise schulische Inhalte bei Bedarf abrufen.\n",
    "        \"\"\"\n",
    "    },\n",
    "    {\n",
    "        \"role\": \"assistant\",\n",
    "        \"content\": \"\"\"\n",
    "Jane Doe kann nur teilweise aktiv am Unterricht teilnehmen.\n",
    "Nicht immer gelingt es ihr im schulischen Umfeld Leistungen zu zeigen.\n",
    "Sie kann jedoch gut während des Unterrichts Aufmerksam sein und den Instruktionen der Lehrperson folgen.\n",
    "Ausserdem merkt sie sich schulische Inhalte gut, kann diese jedoch nur teilweise bei Bedarf abrufen.\n",
    "        \"\"\"\n",
    "    },\n",
    "    {\n",
    "        \"role\": \"user\",\n",
    "        \"content\": first_prompt\n",
    "    },\n",
    "]"
   ]
  },
  {
   "cell_type": "code",
   "execution_count": 32,
   "id": "a7c70944-9e1d-4af4-a91c-36ff2e3be6cb",
   "metadata": {},
   "outputs": [],
   "source": [
    "def get_api_key():\n",
    "    dotenv.load_dotenv()\n",
    "    os.getenv(\"OPENAI_APIKEY\")\n",
    "    return os.getenv(\"OPENAI_APIKEY\")\n",
    "openai.api_key = get_api_key()"
   ]
  },
  {
   "cell_type": "code",
   "execution_count": 33,
   "id": "76c6d9af-fdff-4b88-8865-afd68238d710",
   "metadata": {},
   "outputs": [],
   "source": [
    "def _openai(messages) -> openai.types.chat.chat_completion.Choice:\n",
    "    \"\"\"\n",
    "    Request is sent to OpenAI\n",
    "    Return the response in a ChatCompletion-Object\n",
    "    \"\"\"\n",
    "    model_result = openai.chat.completions.create(\n",
    "        model=\"gpt-3.5-turbo\",\n",
    "        messages=messages,\n",
    "        temperature=0.2,\n",
    "        top_p=1,\n",
    "    )\n",
    "    response = model_result.choices[0]\n",
    "    chain = messages + [response.message]\n",
    "    return response.message.content, chain"
   ]
  },
  {
   "cell_type": "code",
   "execution_count": 34,
   "id": "33112e37-5ab0-43bf-b42a-78c8aebdc31a",
   "metadata": {},
   "outputs": [],
   "source": [
    "answer, chain = _openai(messages)"
   ]
  },
  {
   "cell_type": "code",
   "execution_count": 20,
   "id": "f480ba5b-b629-4af9-8928-dec616e32453",
   "metadata": {},
   "outputs": [],
   "source": [
    "def follow_up_prompt(prompt, chain):\n",
    "    return chain.append({\"role\":\"user\",\"content\":prompt})"
   ]
  },
  {
   "cell_type": "code",
   "execution_count": 39,
   "id": "82454b8c-3b79-45b3-9d3a-1c98b35fd0da",
   "metadata": {},
   "outputs": [],
   "source": [
    "prompt = \"Bitte ersetze 'John' mit '[Jane]'\"\n",
    "new_messages = follow_up_prompt(prompt, chain)\n",
    "new_answer, new_chain = _openai(new_messages)"
   ]
  },
  {
   "cell_type": "code",
   "execution_count": 40,
   "id": "0315968b-9149-434e-96e5-35f499b9b243",
   "metadata": {},
   "outputs": [
    {
     "data": {
      "text/plain": [
       "'Jane zeigt grosses Interesse an verschiedenen schulischen Themen, insbesondere in Physik und Chemie. Besonders aktiv ist sie in Fächern, die ihr Interesse wecken. Sie kann gut im Unterricht Leistung zeigen und ist während des Unterrichts aufmerksam sowie in der Lage, den Instruktionen der Lehrperson zu folgen. Allerdings hat sie teilweise Schwierigkeiten, sich schulische Inhalte zu merken und kann diese auch nur teilweise bei Bedarf abrufen.'"
      ]
     },
     "execution_count": 40,
     "metadata": {},
     "output_type": "execute_result"
    }
   ],
   "source": [
    "new_answer"
   ]
  },
  {
   "cell_type": "code",
   "execution_count": 41,
   "id": "9c1a1b61-f401-4a17-bf9f-cf978343c8fd",
   "metadata": {},
   "outputs": [
    {
     "data": {
      "text/plain": [
       "[{'role': 'system',\n",
       "  'content': '\\nDu wirst eine Evaluation eines Schülers oder einer Schülerin bekommen.\\nDie Evaluation wird in kurzen einfachen Sätzen sein.\\nDein Task ist es, diese Sätze zu einem Fliesstext zusammenzubringen.\\nDer Fliesstext soll professionell sein.\\nDer Fliesstext soll nur Informationen enthalten, die von der Evaluation mitgegeben werden.\\nDer Fliesstext soll die Schweizer Rechtschreibung nutzen, das heisst, Scharf-S wird durch Doppel-S ersetzt.\\n'},\n",
       " {'role': 'user',\n",
       "  'content': '\\nJohn Doe kann gut aktiv am Unterricht teilnehmen.\\nJohn Doe kann gut im schulischen Umfeld Leistung zeigen.\\nJohn Doe kann nicht immer während des Unterrichts Aufmerksam sein und den Instruktionen der Lehrperson folgen.\\nJohn Doe kann teilweise sich schulische Inhalte merken.\\nJohn Doe kann noch nicht schulische Inhalte bei Bedarf abrufen.\\n        '},\n",
       " {'role': 'assistant',\n",
       "  'content': '\\nJohn Doe gelingt es gut, aktiv am Unterricht teilzunehmen.\\nAusserdem zeigt er meist gute Leistungen im schulischen Umfeld.\\nEr kann jedoch während des Unterrichts nicht immer Aufmerksam sein und den Instruktionen der Lehrperson folgen.\\nAusserdem hat John Doe teilweise Mühe, sich schulische Inhalte zu merken.\\nAuch gelingt es ihm noch nicht, die gemerkten Inhalte bei Bedarf abzurufen.\\n        '},\n",
       " {'role': 'user',\n",
       "  'content': '\\nJane Doe kann teilweise aktiv am Unterricht teilnehmen.\\nJane Doe kann nicht immer im schulischen Umfeld Leistung zeigen.\\nJane Doe kann gut während des Unterrichts Aufmerksam sein und den Instruktionen der Lehrperson folgen.\\nJane Doe kann gut sich schulische Inhalte merken.\\nJane Doe kann teilweise schulische Inhalte bei Bedarf abrufen.\\n        '},\n",
       " {'role': 'assistant',\n",
       "  'content': '\\nJane Doe kann nur teilweise aktiv am Unterricht teilnehmen.\\nNicht immer gelingt es ihr im schulischen Umfeld Leistungen zu zeigen.\\nSie kann jedoch gut während des Unterrichts Aufmerksam sein und den Instruktionen der Lehrperson folgen.\\nAusserdem merkt sie sich schulische Inhalte gut, kann diese jedoch nur teilweise bei Bedarf abrufen.\\n        '},\n",
       " {'role': 'user',\n",
       "  'content': '\\nBitte mache aus der folgenden Einschätzung einen professionellen Fliesstext:\\n - [John] kann gut aktiv am Unterricht teilnehmen John zeigt grosses Interesse an verschiedenen schulischen Themen, insbesondere in Physik und Chemie.,Besonders aktiv ist er in Fächern, die sein Interesse wecken.\\n - [John] kann gut im Unterricht Leistung zeigen \\n - [John] kann gut während dem Unterricht Aufmerksam sein und den Instruktionen der Lehrperson folgen \\n - [John] kann teilweise sich schulische Inhalte merken \\n - [John] kann teilweise schulische Inhalte bei Bedarf abrufen \\n'},\n",
       " ChatCompletionMessage(content='John zeigt grosses Interesse an verschiedenen schulischen Themen, insbesondere in Physik und Chemie. Besonders aktiv ist er in Fächern, die sein Interesse wecken. Er kann gut im Unterricht Leistung zeigen und ist während des Unterrichts aufmerksam sowie in der Lage, den Instruktionen der Lehrperson zu folgen. Allerdings hat er teilweise Schwierigkeiten, sich schulische Inhalte zu merken und kann diese auch nur teilweise bei Bedarf abrufen.', role='assistant', function_call=None, tool_calls=None),\n",
       " {'role': 'user', 'content': \"Bitte ersetze 'John' mit '[Jane]'\"},\n",
       " ChatCompletionMessage(content='Jane zeigt grosses Interesse an verschiedenen schulischen Themen, insbesondere in Physik und Chemie. Besonders aktiv ist sie in Fächern, die ihr Interesse wecken. Sie kann gut im Unterricht Leistung zeigen und ist während des Unterrichts aufmerksam sowie in der Lage, den Instruktionen der Lehrperson zu folgen. Allerdings hat sie teilweise Schwierigkeiten, sich schulische Inhalte zu merken und kann diese auch nur teilweise bei Bedarf abrufen.', role='assistant', function_call=None, tool_calls=None)]"
      ]
     },
     "execution_count": 41,
     "metadata": {},
     "output_type": "execute_result"
    }
   ],
   "source": [
    "new_chain"
   ]
  },
  {
   "cell_type": "code",
   "execution_count": null,
   "id": "9d4d4ac0-adb9-4474-a776-7569c7c78ab5",
   "metadata": {},
   "outputs": [],
   "source": []
  }
 ],
 "metadata": {
  "kernelspec": {
   "display_name": "Python 3 (ipykernel)",
   "language": "python",
   "name": "python3"
  },
  "language_info": {
   "codemirror_mode": {
    "name": "ipython",
    "version": 3
   },
   "file_extension": ".py",
   "mimetype": "text/x-python",
   "name": "python",
   "nbconvert_exporter": "python",
   "pygments_lexer": "ipython3",
   "version": "3.11.4"
  }
 },
 "nbformat": 4,
 "nbformat_minor": 5
}
