{
 "cells": [
  {
   "cell_type": "code",
   "execution_count": null,
   "id": "4e7c20bc-a3b8-49f1-a8d4-ba76d6da05b6",
   "metadata": {},
   "outputs": [],
   "source": [
    "import torch\n",
    "from transformers import BertTokenizer, BertModel\n",
    "from scipy.spatial.distance import cosine"
   ]
  },
  {
   "cell_type": "code",
   "execution_count": null,
   "id": "3dae6f1f-44de-495d-96ee-bd088bc3808a",
   "metadata": {},
   "outputs": [],
   "source": [
    "def get_bert_embeddings(text, model, tokenizer):\n",
    "    inputs = tokenizer(text, return_tensors=\"pt\", padding=True, truncation=True, max_length=512)\n",
    "    with torch.no_grad():\n",
    "        outputs = model(**inputs)\n",
    "    embeddings = outputs.last_hidden_state\n",
    "    mean_embeddings = embeddings.mean(dim=1).squeeze()  # Ensure it's a 1-D vector\n",
    "    return mean_embeddings\n",
    "\n",
    "# Load pre-trained BERT model and tokenizer\n",
    "tokenizer = BertTokenizer.from_pretrained('bert-base-uncased')\n",
    "model = BertModel.from_pretrained('bert-base-uncased')\n",
    "\n",
    "text1 = \"I love machine learning.\"\n",
    "text2 = \"I adore artificial intelligence.\"\n",
    "\n",
    "embeddings1 = get_bert_embeddings(text1, model, tokenizer)\n",
    "embeddings2 = get_bert_embeddings(text2, model, tokenizer)\n",
    "\n",
    "vec1 = embeddings1.numpy()\n",
    "vec2 = embeddings2.numpy()\n",
    "\n",
    "similarity = 1 - cosine(vec1, vec2)\n",
    "print(f\"The similarity between the texts is: {similarity:.4f}\")"
   ]
  },
  {
   "cell_type": "code",
   "execution_count": null,
   "id": "431f72ab-5f07-4707-9f61-0e951599004b",
   "metadata": {},
   "outputs": [],
   "source": []
  }
 ],
 "metadata": {
  "kernelspec": {
   "display_name": "Python 3 (ipykernel)",
   "language": "python",
   "name": "python3"
  },
  "language_info": {
   "codemirror_mode": {
    "name": "ipython",
    "version": 3
   },
   "file_extension": ".py",
   "mimetype": "text/x-python",
   "name": "python",
   "nbconvert_exporter": "python",
   "pygments_lexer": "ipython3",
   "version": "3.11.4"
  }
 },
 "nbformat": 4,
 "nbformat_minor": 5
}
