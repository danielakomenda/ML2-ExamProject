{
 "cells": [
  {
   "cell_type": "code",
   "execution_count": 1,
   "id": "8d3b4ac5-4600-4243-b1cd-197aadb05458",
   "metadata": {},
   "outputs": [],
   "source": [
    "import os\n",
    "\n",
    "import dotenv\n",
    "import pandas as pd\n",
    "import pymongo"
   ]
  },
  {
   "cell_type": "code",
   "execution_count": 2,
   "id": "8177dc2b-5b5b-482f-8dee-cd7c394643f5",
   "metadata": {},
   "outputs": [],
   "source": [
    "dotenv.load_dotenv()\n",
    "mongodb_uri = os.getenv(\"MONGODB_URI\")\n",
    "DBclient = pymongo.MongoClient(mongodb_uri)\n",
    "db = DBclient[\"ML2-Abschlussprojekt\"]"
   ]
  },
  {
   "cell_type": "markdown",
   "id": "dd662f07-3b79-4788-ba50-aa33f8069182",
   "metadata": {},
   "source": [
    "_________"
   ]
  },
  {
   "cell_type": "markdown",
   "id": "ff778ceb-56ac-4baf-8839-e74da6b7e68c",
   "metadata": {},
   "source": [
    "# Drop Collections"
   ]
  },
  {
   "cell_type": "code",
   "execution_count": 3,
   "id": "494bd776-47ef-4c49-bcdf-99cfd0bd191b",
   "metadata": {},
   "outputs": [],
   "source": [
    "def drop_all_collections():\n",
    "    db[\"Base_Data\"].drop()\n",
    "    db[\"Semester_Data\"].drop()\n",
    "    db[\"Assessment_Data\"].drop()"
   ]
  },
  {
   "cell_type": "code",
   "execution_count": 4,
   "id": "5b90bc54-cbbc-432e-b145-09e171411117",
   "metadata": {},
   "outputs": [],
   "source": [
    "drop_all_collections()"
   ]
  },
  {
   "cell_type": "markdown",
   "id": "3d6127e1-f26e-40a3-99e7-a3d4b605095c",
   "metadata": {},
   "source": [
    "_________"
   ]
  },
  {
   "cell_type": "markdown",
   "id": "45f16fa4-21ce-4ad5-b897-aa41b5290eef",
   "metadata": {},
   "source": [
    "# Base Data"
   ]
  },
  {
   "cell_type": "code",
   "execution_count": 5,
   "id": "d8f9a4b2-f4a0-490a-8965-e12a689410e3",
   "metadata": {},
   "outputs": [
    {
     "data": {
      "text/html": [
       "<div>\n",
       "<style scoped>\n",
       "    .dataframe tbody tr th:only-of-type {\n",
       "        vertical-align: middle;\n",
       "    }\n",
       "\n",
       "    .dataframe tbody tr th {\n",
       "        vertical-align: top;\n",
       "    }\n",
       "\n",
       "    .dataframe thead th {\n",
       "        text-align: right;\n",
       "    }\n",
       "</style>\n",
       "<table border=\"1\" class=\"dataframe\">\n",
       "  <thead>\n",
       "    <tr style=\"text-align: right;\">\n",
       "      <th></th>\n",
       "      <th>firstname</th>\n",
       "      <th>lastname</th>\n",
       "      <th>gender</th>\n",
       "      <th>birthday</th>\n",
       "      <th>school_entry</th>\n",
       "      <th>diagnose</th>\n",
       "      <th>compensation</th>\n",
       "      <th>class_teacher</th>\n",
       "      <th>special_education_teacher</th>\n",
       "    </tr>\n",
       "  </thead>\n",
       "  <tbody>\n",
       "    <tr>\n",
       "      <th>0</th>\n",
       "      <td>Bruce</td>\n",
       "      <td>Banner</td>\n",
       "      <td>männlich</td>\n",
       "      <td>2009-02-02</td>\n",
       "      <td>2022-08-01</td>\n",
       "      <td>Schizophrenie</td>\n",
       "      <td>Separater Raum bei Prüfungen</td>\n",
       "      <td>Nick Fury</td>\n",
       "      <td>Miss Marvel</td>\n",
       "    </tr>\n",
       "    <tr>\n",
       "      <th>1</th>\n",
       "      <td>Natasha</td>\n",
       "      <td>Romanoff</td>\n",
       "      <td>weiblich</td>\n",
       "      <td>2009-03-03</td>\n",
       "      <td>2022-08-01</td>\n",
       "      <td>None</td>\n",
       "      <td>None</td>\n",
       "      <td>Nick Fury</td>\n",
       "      <td>Miss Marvel</td>\n",
       "    </tr>\n",
       "  </tbody>\n",
       "</table>\n",
       "</div>"
      ],
      "text/plain": [
       "  firstname  lastname    gender    birthday school_entry       diagnose  \\\n",
       "0     Bruce    Banner  männlich  2009-02-02   2022-08-01  Schizophrenie   \n",
       "1   Natasha  Romanoff  weiblich  2009-03-03   2022-08-01           None   \n",
       "\n",
       "                   compensation class_teacher special_education_teacher  \n",
       "0  Separater Raum bei Prüfungen     Nick Fury               Miss Marvel  \n",
       "1                          None     Nick Fury               Miss Marvel  "
      ]
     },
     "execution_count": 5,
     "metadata": {},
     "output_type": "execute_result"
    }
   ],
   "source": [
    "df_base = pd.read_excel(\"Student-Data.xlsx\", \"Base_Data\").convert_dtypes().replace({pd.NA:None})\n",
    "df_base.head()"
   ]
  },
  {
   "cell_type": "code",
   "execution_count": 6,
   "id": "f841631c-6712-4604-bef5-8bbb72e53274",
   "metadata": {},
   "outputs": [],
   "source": [
    "base_data = [\n",
    "    row.to_dict() for col, row in df_base.iterrows()\n",
    "]"
   ]
  },
  {
   "cell_type": "code",
   "execution_count": 7,
   "id": "220233d0-a49f-4d3a-ba86-99c02a7ef510",
   "metadata": {},
   "outputs": [],
   "source": [
    "collection = db[\"Base_Data\"]\n",
    "result = collection.insert_many(base_data)\n",
    "\n",
    "# Mapping: Prename to ObjectIDs from MongoDB\n",
    "student_map = {\n",
    "    s[\"firstname\"]: r\n",
    "    for s,r in zip(base_data, result.inserted_ids)\n",
    "}"
   ]
  },
  {
   "cell_type": "code",
   "execution_count": 8,
   "id": "3d025865-112b-4c9a-b57f-d84e957d8b8f",
   "metadata": {},
   "outputs": [
    {
     "data": {
      "text/plain": [
       "{'Bruce': ObjectId('6663031cb9767114ee3d1048'),\n",
       " 'Natasha': ObjectId('6663031cb9767114ee3d1049')}"
      ]
     },
     "execution_count": 8,
     "metadata": {},
     "output_type": "execute_result"
    }
   ],
   "source": [
    "student_map"
   ]
  },
  {
   "cell_type": "markdown",
   "id": "7daa2f63-7fd8-48dc-8102-95ad6b2ae239",
   "metadata": {},
   "source": [
    "____________"
   ]
  },
  {
   "cell_type": "markdown",
   "id": "f8f000f7-4162-4bdf-8596-ad8f6d2c9489",
   "metadata": {},
   "source": [
    "# Semester Data"
   ]
  },
  {
   "cell_type": "code",
   "execution_count": 9,
   "id": "99312a3a-385f-454b-8082-0a9189eefc05",
   "metadata": {},
   "outputs": [
    {
     "data": {
      "text/html": [
       "<div>\n",
       "<style scoped>\n",
       "    .dataframe tbody tr th:only-of-type {\n",
       "        vertical-align: middle;\n",
       "    }\n",
       "\n",
       "    .dataframe tbody tr th {\n",
       "        vertical-align: top;\n",
       "    }\n",
       "\n",
       "    .dataframe thead th {\n",
       "        text-align: right;\n",
       "    }\n",
       "</style>\n",
       "<table border=\"1\" class=\"dataframe\">\n",
       "  <thead>\n",
       "    <tr style=\"text-align: right;\">\n",
       "      <th></th>\n",
       "      <th>firstname</th>\n",
       "      <th>semester_name</th>\n",
       "      <th>grade_level</th>\n",
       "      <th>niveau</th>\n",
       "      <th>last_progress_talk</th>\n",
       "      <th>last_report</th>\n",
       "    </tr>\n",
       "  </thead>\n",
       "  <tbody>\n",
       "    <tr>\n",
       "      <th>0</th>\n",
       "      <td>Bruce</td>\n",
       "      <td>FS24</td>\n",
       "      <td>1. Sekundarstufe</td>\n",
       "      <td>A</td>\n",
       "      <td>FS24</td>\n",
       "      <td>HS23</td>\n",
       "    </tr>\n",
       "    <tr>\n",
       "      <th>1</th>\n",
       "      <td>Natasha</td>\n",
       "      <td>FS24</td>\n",
       "      <td>3. Sekundarstufe</td>\n",
       "      <td>B</td>\n",
       "      <td>FS24</td>\n",
       "      <td>HS23</td>\n",
       "    </tr>\n",
       "    <tr>\n",
       "      <th>2</th>\n",
       "      <td>Bruce</td>\n",
       "      <td>HS23</td>\n",
       "      <td>6. Klasse</td>\n",
       "      <td>keines</td>\n",
       "      <td>FS23</td>\n",
       "      <td>FS23</td>\n",
       "    </tr>\n",
       "    <tr>\n",
       "      <th>3</th>\n",
       "      <td>Natasha</td>\n",
       "      <td>HS23</td>\n",
       "      <td>2. Sekundarstufe</td>\n",
       "      <td>B</td>\n",
       "      <td>FS23</td>\n",
       "      <td>FS23</td>\n",
       "    </tr>\n",
       "    <tr>\n",
       "      <th>4</th>\n",
       "      <td>Bruce</td>\n",
       "      <td>FS23</td>\n",
       "      <td>6. Klasse</td>\n",
       "      <td>keines</td>\n",
       "      <td>HS22</td>\n",
       "      <td>HS22</td>\n",
       "    </tr>\n",
       "  </tbody>\n",
       "</table>\n",
       "</div>"
      ],
      "text/plain": [
       "  firstname semester_name       grade_level  niveau last_progress_talk  \\\n",
       "0     Bruce          FS24  1. Sekundarstufe       A               FS24   \n",
       "1   Natasha          FS24  3. Sekundarstufe       B               FS24   \n",
       "2     Bruce          HS23         6. Klasse  keines               FS23   \n",
       "3   Natasha          HS23  2. Sekundarstufe       B               FS23   \n",
       "4     Bruce          FS23         6. Klasse  keines               HS22   \n",
       "\n",
       "  last_report  \n",
       "0        HS23  \n",
       "1        HS23  \n",
       "2        FS23  \n",
       "3        FS23  \n",
       "4        HS22  "
      ]
     },
     "execution_count": 9,
     "metadata": {},
     "output_type": "execute_result"
    }
   ],
   "source": [
    "df_semester = pd.read_excel(\"Student-Data.xlsx\", \"Semester_Data\").convert_dtypes().replace({pd.NA:None})\n",
    "df_semester.head()"
   ]
  },
  {
   "cell_type": "code",
   "execution_count": 10,
   "id": "a6729488-e78a-46ce-8e94-bcc5bd0f48f3",
   "metadata": {},
   "outputs": [
    {
     "data": {
      "text/plain": [
       "{'student_id': ObjectId('6663031cb9767114ee3d1048'),\n",
       " 'semester_name': 'FS24',\n",
       " 'grade_level': '1. Sekundarstufe',\n",
       " 'niveau': 'A',\n",
       " 'last_progress_talk': 'FS24',\n",
       " 'last_report': 'HS23',\n",
       " 'final_assessment': None,\n",
       " 'final_text': None}"
      ]
     },
     "execution_count": 10,
     "metadata": {},
     "output_type": "execute_result"
    }
   ],
   "source": [
    "# Create dictionary with all the important information, including ObjectID-reference to the student\n",
    "semester_data = {\n",
    "    (row.firstname, row.semester_name): dict(\n",
    "        student_id=student_map[row.firstname],\n",
    "        **{\n",
    "            k:v for k,v in\n",
    "            row.to_dict().items()\n",
    "            if k != \"firstname\"\n",
    "        },\n",
    "        final_assessment=None, # will be needed later\n",
    "        final_text=None, # will be needed later\n",
    "    )\n",
    "    for _, row in df_semester.iterrows()\n",
    "}\n",
    "list(semester_data.values())[0]"
   ]
  },
  {
   "cell_type": "code",
   "execution_count": 11,
   "id": "d889506b-ffa9-4893-bade-b10735cedec4",
   "metadata": {},
   "outputs": [],
   "source": [
    "# Load Entries to MongoDB\n",
    "collection = db[\"Semester_Data\"]\n",
    "result = collection.insert_many(semester_data.values())\n",
    "\n",
    "# Mapping: (student_id, semester) to ObjectIDs of Evaluations\n",
    "semester_map = {\n",
    "    k: r\n",
    "    for k,r in zip(semester_data.keys(), result.inserted_ids)\n",
    "}"
   ]
  },
  {
   "cell_type": "code",
   "execution_count": 12,
   "id": "db85e70e-b892-4588-883f-583b8d8d87ce",
   "metadata": {},
   "outputs": [
    {
     "data": {
      "text/plain": [
       "{('Bruce', 'FS24'): ObjectId('6663031eb9767114ee3d104a'),\n",
       " ('Natasha', 'FS24'): ObjectId('6663031eb9767114ee3d104b'),\n",
       " ('Bruce', 'HS23'): ObjectId('6663031eb9767114ee3d104c'),\n",
       " ('Natasha', 'HS23'): ObjectId('6663031eb9767114ee3d104d'),\n",
       " ('Bruce', 'FS23'): ObjectId('6663031eb9767114ee3d104e'),\n",
       " ('Natasha', 'FS23'): ObjectId('6663031eb9767114ee3d104f')}"
      ]
     },
     "execution_count": 12,
     "metadata": {},
     "output_type": "execute_result"
    }
   ],
   "source": [
    "semester_map"
   ]
  },
  {
   "cell_type": "markdown",
   "id": "cabfbf57-43fd-4733-a47d-fcd9d6bc8d6f",
   "metadata": {},
   "source": [
    "____________"
   ]
  },
  {
   "cell_type": "markdown",
   "id": "36957837-4897-41eb-b4aa-706f051eab01",
   "metadata": {},
   "source": [
    "# Assessments"
   ]
  },
  {
   "cell_type": "code",
   "execution_count": 13,
   "id": "34fe039a-a184-498f-aeab-6aa9074037d2",
   "metadata": {},
   "outputs": [
    {
     "data": {
      "text/html": [
       "<div>\n",
       "<style scoped>\n",
       "    .dataframe tbody tr th:only-of-type {\n",
       "        vertical-align: middle;\n",
       "    }\n",
       "\n",
       "    .dataframe tbody tr th {\n",
       "        vertical-align: top;\n",
       "    }\n",
       "\n",
       "    .dataframe thead th {\n",
       "        text-align: right;\n",
       "    }\n",
       "</style>\n",
       "<table border=\"1\" class=\"dataframe\">\n",
       "  <thead>\n",
       "    <tr style=\"text-align: right;\">\n",
       "      <th></th>\n",
       "      <th>firstname</th>\n",
       "      <th>semester_name</th>\n",
       "      <th>author</th>\n",
       "      <th>AktivTeilnehmen</th>\n",
       "      <th>AktivTeilnehmenNotizen</th>\n",
       "      <th>LeistungZeigen</th>\n",
       "      <th>LeistungZeigenNotizen</th>\n",
       "      <th>AufmerksamSein</th>\n",
       "      <th>AufmerksamSeinNotizen</th>\n",
       "      <th>SchulinhalteMerken</th>\n",
       "      <th>SchulinhalteMerkenNotizen</th>\n",
       "      <th>SchulinhalteAbrufen</th>\n",
       "      <th>SchulinhalteAbrufenNotizen</th>\n",
       "      <th>date</th>\n",
       "    </tr>\n",
       "  </thead>\n",
       "  <tbody>\n",
       "    <tr>\n",
       "      <th>0</th>\n",
       "      <td>Bruce</td>\n",
       "      <td>HS23</td>\n",
       "      <td>Teacher1</td>\n",
       "      <td>gut</td>\n",
       "      <td>insbesondere bei Fächer, die ihn interessieren</td>\n",
       "      <td>gut</td>\n",
       "      <td>teilweise könnte er noch etwas mehr Leistung z...</td>\n",
       "      <td>sehr gut</td>\n",
       "      <td>None</td>\n",
       "      <td>gut</td>\n",
       "      <td>None</td>\n",
       "      <td>teilweise</td>\n",
       "      <td>ab und zu fällt es Bruce schwer, bei Prüfungen...</td>\n",
       "      <td>2023-12-01 09:42:14.695000+00:00</td>\n",
       "    </tr>\n",
       "    <tr>\n",
       "      <th>1</th>\n",
       "      <td>Bruce</td>\n",
       "      <td>HS23</td>\n",
       "      <td>Teacher2</td>\n",
       "      <td>sehr gut</td>\n",
       "      <td>Bruce hat viele schulische Interessen. Insbeso...</td>\n",
       "      <td>gut</td>\n",
       "      <td>None</td>\n",
       "      <td>gut</td>\n",
       "      <td>Oft ist er im Unterricht aufmerksam.</td>\n",
       "      <td>teilweise</td>\n",
       "      <td>er vegisst nach den Prüfungen vieles</td>\n",
       "      <td>nicht immer</td>\n",
       "      <td>manchmal hat er Schwierigkeiten, bei Prüfungen...</td>\n",
       "      <td>2023-12-01 09:43:13.695000+00:00</td>\n",
       "    </tr>\n",
       "    <tr>\n",
       "      <th>2</th>\n",
       "      <td>Bruce</td>\n",
       "      <td>HS23</td>\n",
       "      <td>Teacher3</td>\n",
       "      <td>gut</td>\n",
       "      <td>Bruce ist meistens aktiv in der Schule</td>\n",
       "      <td>sehr gut</td>\n",
       "      <td>None</td>\n",
       "      <td>gut</td>\n",
       "      <td>Es kann vorkommen, dass er etwas verträumt ist.</td>\n",
       "      <td>teilweise</td>\n",
       "      <td>None</td>\n",
       "      <td>nicht immer</td>\n",
       "      <td>None</td>\n",
       "      <td>2023-12-01 09:44:13.695000+00:00</td>\n",
       "    </tr>\n",
       "    <tr>\n",
       "      <th>3</th>\n",
       "      <td>Bruce</td>\n",
       "      <td>FS23</td>\n",
       "      <td>Teacher1</td>\n",
       "      <td>gut</td>\n",
       "      <td>None</td>\n",
       "      <td>teilweise</td>\n",
       "      <td>teilweise ist er sehr müde</td>\n",
       "      <td>teilweise</td>\n",
       "      <td>None</td>\n",
       "      <td>nicht immer</td>\n",
       "      <td>bei Themen, die ihn interessieren, kann er sic...</td>\n",
       "      <td>noch nicht</td>\n",
       "      <td>None</td>\n",
       "      <td>2023-06-01 09:42:13.695000+00:00</td>\n",
       "    </tr>\n",
       "    <tr>\n",
       "      <th>4</th>\n",
       "      <td>Bruce</td>\n",
       "      <td>FS23</td>\n",
       "      <td>Teacher2</td>\n",
       "      <td>sehr gut</td>\n",
       "      <td>er meldet sich oft im Unterricht</td>\n",
       "      <td>teilweise</td>\n",
       "      <td>wenn er nicht müde ist, geht es gut</td>\n",
       "      <td>gut</td>\n",
       "      <td>None</td>\n",
       "      <td>teilweise</td>\n",
       "      <td>None</td>\n",
       "      <td>nicht immer</td>\n",
       "      <td>None</td>\n",
       "      <td>2023-06-01 09:43:14.695000+00:00</td>\n",
       "    </tr>\n",
       "  </tbody>\n",
       "</table>\n",
       "</div>"
      ],
      "text/plain": [
       "  firstname semester_name    author AktivTeilnehmen  \\\n",
       "0     Bruce          HS23  Teacher1             gut   \n",
       "1     Bruce          HS23  Teacher2        sehr gut   \n",
       "2     Bruce          HS23  Teacher3             gut   \n",
       "3     Bruce          FS23  Teacher1             gut   \n",
       "4     Bruce          FS23  Teacher2        sehr gut   \n",
       "\n",
       "                              AktivTeilnehmenNotizen LeistungZeigen  \\\n",
       "0     insbesondere bei Fächer, die ihn interessieren            gut   \n",
       "1  Bruce hat viele schulische Interessen. Insbeso...            gut   \n",
       "2             Bruce ist meistens aktiv in der Schule       sehr gut   \n",
       "3                                               None      teilweise   \n",
       "4                   er meldet sich oft im Unterricht      teilweise   \n",
       "\n",
       "                               LeistungZeigenNotizen AufmerksamSein  \\\n",
       "0  teilweise könnte er noch etwas mehr Leistung z...       sehr gut   \n",
       "1                                               None            gut   \n",
       "2                                               None            gut   \n",
       "3                         teilweise ist er sehr müde      teilweise   \n",
       "4                wenn er nicht müde ist, geht es gut            gut   \n",
       "\n",
       "                             AufmerksamSeinNotizen SchulinhalteMerken  \\\n",
       "0                                             None                gut   \n",
       "1             Oft ist er im Unterricht aufmerksam.          teilweise   \n",
       "2  Es kann vorkommen, dass er etwas verträumt ist.          teilweise   \n",
       "3                                             None        nicht immer   \n",
       "4                                             None          teilweise   \n",
       "\n",
       "                           SchulinhalteMerkenNotizen SchulinhalteAbrufen  \\\n",
       "0                                               None           teilweise   \n",
       "1               er vegisst nach den Prüfungen vieles         nicht immer   \n",
       "2                                               None         nicht immer   \n",
       "3  bei Themen, die ihn interessieren, kann er sic...          noch nicht   \n",
       "4                                               None         nicht immer   \n",
       "\n",
       "                          SchulinhalteAbrufenNotizen  \\\n",
       "0  ab und zu fällt es Bruce schwer, bei Prüfungen...   \n",
       "1  manchmal hat er Schwierigkeiten, bei Prüfungen...   \n",
       "2                                               None   \n",
       "3                                               None   \n",
       "4                                               None   \n",
       "\n",
       "                              date  \n",
       "0 2023-12-01 09:42:14.695000+00:00  \n",
       "1 2023-12-01 09:43:13.695000+00:00  \n",
       "2 2023-12-01 09:44:13.695000+00:00  \n",
       "3 2023-06-01 09:42:13.695000+00:00  \n",
       "4 2023-06-01 09:43:14.695000+00:00  "
      ]
     },
     "execution_count": 13,
     "metadata": {},
     "output_type": "execute_result"
    }
   ],
   "source": [
    "df_assessment = pd.read_excel(\n",
    "    \"Student-Data.xlsx\",\n",
    "    \"Assessments_Data\",\n",
    "    converters=dict(date=pd.to_datetime),\n",
    ").convert_dtypes().replace({pd.NA:None})\n",
    "df_assessment.head()"
   ]
  },
  {
   "cell_type": "code",
   "execution_count": 14,
   "id": "1d5dae26-bf91-4575-b3e3-0e73e1ea0f2c",
   "metadata": {},
   "outputs": [
    {
     "data": {
      "text/plain": [
       "{'student_id': ObjectId('6663031cb9767114ee3d1048'),\n",
       " 'semester_id': ObjectId('6663031eb9767114ee3d104c'),\n",
       " 'allgemeines_lernen': {'LeistungZeigen': {'assessment': 'gut',\n",
       "   'notes': 'teilweise könnte er noch etwas mehr Leistung zeigen, wenn er rechtzeit lernen würde'},\n",
       "  'SchulinhalteAbrufen': {'assessment': 'teilweise',\n",
       "   'notes': 'ab und zu fällt es Bruce schwer, bei Prüfungen zu zeigen, was er kann.'},\n",
       "  'AktivTeilnehmen': {'assessment': 'gut',\n",
       "   'notes': 'insbesondere bei Fächer, die ihn interessieren'},\n",
       "  'AufmerksamSein': {'assessment': 'sehr gut', 'notes': None},\n",
       "  'SchulinhalteMerken': {'assessment': 'gut', 'notes': None}},\n",
       " 'author': 'Teacher1',\n",
       " 'date': Timestamp('2023-12-01 09:42:14.695000+0000', tz='UTC')}"
      ]
     },
     "execution_count": 14,
     "metadata": {},
     "output_type": "execute_result"
    }
   ],
   "source": [
    "# Create dictionary with all the important information, including ObjectID - reference to the student\n",
    "assessment_data = []\n",
    "assessment_critera = {\n",
    "    \"AktivTeilnehmen\",\n",
    "    \"LeistungZeigen\",\n",
    "    \"AufmerksamSein\",\n",
    "    \"SchulinhalteMerken\",\n",
    "    \"SchulinhalteAbrufen\",\n",
    "}\n",
    "for _, row in df_assessment.iterrows():\n",
    "    rowdict = row.to_dict()\n",
    "    assessment = {\n",
    "        criterium: dict(\n",
    "            assessment=rowdict.pop(criterium),\n",
    "            notes=rowdict.pop(criterium+\"Notizen\"),\n",
    "        ) for criterium in assessment_critera\n",
    "    }\n",
    "    # Rule: All Assessment-Criteria are in UpperCase and we only want to handle these\n",
    "    assert not any(k[0].isupper() for k in rowdict)\n",
    "\n",
    "    rowdict.pop(\"firstname\")\n",
    "    rowdict.pop(\"semester_name\")\n",
    "    \n",
    "    \n",
    "    assessment_data.append(dict(\n",
    "        student_id=student_map[row.firstname],\n",
    "        semester_id=semester_map[row.firstname, row.semester_name],\n",
    "        allgemeines_lernen=assessment,\n",
    "        **rowdict,\n",
    "    ))\n",
    "\n",
    "assessment_data[0]"
   ]
  },
  {
   "cell_type": "code",
   "execution_count": 15,
   "id": "83efc272-9d4f-4d64-a27b-8771eef3ab2b",
   "metadata": {},
   "outputs": [],
   "source": [
    "collection = db[\"Assessment_Data\"]\n",
    "result = collection.insert_many(assessment_data)"
   ]
  },
  {
   "cell_type": "markdown",
   "id": "5c4fa942-ab60-4e1d-aaf0-96bc0cb195b3",
   "metadata": {},
   "source": [
    "________"
   ]
  },
  {
   "cell_type": "markdown",
   "id": "6118417f-690f-426d-b9bb-4918cc17aa30",
   "metadata": {},
   "source": [
    "# Final Assessment"
   ]
  },
  {
   "cell_type": "code",
   "execution_count": 16,
   "id": "8f54bce7-6c1a-403e-8aa0-689022688313",
   "metadata": {},
   "outputs": [],
   "source": [
    "data = {\n",
    "    \"allgemeines_lernen\": {\n",
    "        \"AktivTeilnehmen\": {\n",
    "            \"assessment\":\"sehr gut\",\n",
    "            \"notes\":\"Bruce hat viele schulische Interessen und ist in der Schule meist aktiv, insbesondere in Physik und Chemie ist er sehr engagiert.\"\n",
    "        },\n",
    "        \"LeistungZeigen\": {\n",
    "            \"assessment\":\"gut\",\n",
    "            \"notes\":\"teilweise könnte er noch etwas mehr Leistung zeigen, wenn er rechtzeit lernen würde\"\n",
    "        },\n",
    "        \"AufmerksamSein\": {\n",
    "            \"assessment\":\"teilweise\",\n",
    "            \"notes\":\"In der Regel ist Bruce im Unterricht aufmerksam und konzentriert. Es kann jedoch vorkommen, dass er manchmal etwas abgelenkt wirkt.\"\n",
    "        },\n",
    "        \"SchulinhalteMerken\": {\n",
    "            \"assessment\":\"teilweise\",\n",
    "            \"notes\":\"\"\n",
    "        },\n",
    "        \"SchulinhalteAbrufen\": {\n",
    "            \"assessment\":\"nicht immer\",\n",
    "            \"notes\":\"Gelegentlich fällt es Bruce schwer, sein Wissen bei Prüfungen abzurufen. Manchmal hat er Schwierigkeiten, sein volles Potenzial zu zeigen.\"\n",
    "        },\n",
    "    }\n",
    "}"
   ]
  },
  {
   "cell_type": "code",
   "execution_count": 17,
   "id": "65242aef-bfb1-475f-bbcd-6f9f83c80cee",
   "metadata": {},
   "outputs": [],
   "source": [
    "semester_id = semester_map.get(('Bruce', 'HS23'))"
   ]
  },
  {
   "cell_type": "code",
   "execution_count": 18,
   "id": "3482cba2-b403-4a83-9154-221ee0150641",
   "metadata": {},
   "outputs": [
    {
     "data": {
      "text/plain": [
       "UpdateResult({'n': 1, 'electionId': ObjectId('7fffffff0000000000000445'), 'opTime': {'ts': Timestamp(1717764902, 31), 't': 1093}, 'nModified': 1, 'ok': 1.0, '$clusterTime': {'clusterTime': Timestamp(1717764902, 33), 'signature': {'hash': b\"\\xba\\x17\\xb3\\x84\\x1e)27\\xff\\xd0\\x81'\\x02\\xb2\\x9f\\x8b\\x80\\xaa.X\", 'keyId': 7340684186488930306}}, 'operationTime': Timestamp(1717764902, 31), 'updatedExisting': True}, acknowledged=True)"
      ]
     },
     "execution_count": 18,
     "metadata": {},
     "output_type": "execute_result"
    }
   ],
   "source": [
    "collection = db[\"Semester_Data\"]\n",
    "filter = {\n",
    "    \"_id\":semester_id,\n",
    "}\n",
    "entry = {\"$set\": {\"final_assessment\": data}}\n",
    "collection.update_one(filter, entry, upsert=True)"
   ]
  },
  {
   "cell_type": "markdown",
   "id": "cd3c777d-0d17-4b0b-bb98-33d7c1b4619f",
   "metadata": {},
   "source": [
    "__________"
   ]
  },
  {
   "cell_type": "code",
   "execution_count": null,
   "id": "e4b64c03-8083-446c-ac3f-4446697fd55b",
   "metadata": {},
   "outputs": [],
   "source": []
  },
  {
   "cell_type": "code",
   "execution_count": null,
   "id": "4f20d95d-266b-45c9-9481-fcf87255385f",
   "metadata": {},
   "outputs": [],
   "source": []
  }
 ],
 "metadata": {
  "kernelspec": {
   "display_name": "Python 3 (ipykernel)",
   "language": "python",
   "name": "python3"
  },
  "language_info": {
   "codemirror_mode": {
    "name": "ipython",
    "version": 3
   },
   "file_extension": ".py",
   "mimetype": "text/x-python",
   "name": "python",
   "nbconvert_exporter": "python",
   "pygments_lexer": "ipython3",
   "version": "3.12.1"
  }
 },
 "nbformat": 4,
 "nbformat_minor": 5
}
