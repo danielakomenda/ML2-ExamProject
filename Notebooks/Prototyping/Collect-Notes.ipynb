{
 "cells": [
  {
   "cell_type": "code",
   "execution_count": 19,
   "id": "b712ab93-41a4-4a42-97dc-73df4eacd7d4",
   "metadata": {},
   "outputs": [],
   "source": [
    "import os\n",
    "import re\n",
    "import json\n",
    "\n",
    "import dotenv\n",
    "import pymongo\n",
    "from bson import ObjectId"
   ]
  },
  {
   "cell_type": "code",
   "execution_count": 2,
   "id": "e9a13b8c-5b74-43e8-91e6-d56345b1a3d0",
   "metadata": {},
   "outputs": [],
   "source": [
    "def serialize_obj(obj):\n",
    "    \"\"\"Recursively convert ObjectId to str and prepare for JSON serialization.\"\"\"\n",
    "    if isinstance(obj, ObjectId):\n",
    "        return str(obj)\n",
    "    if isinstance(obj, list):\n",
    "        return [serialize_obj(item) for item in obj]\n",
    "    if isinstance(obj, dict):\n",
    "        return {key: serialize_obj(value) for key, value in obj.items()}\n",
    "    return obj\n",
    "\n",
    "\n",
    "def connect_to_db(collection):\n",
    "    dotenv.load_dotenv()\n",
    "    mongodb_uri = os.getenv(\"MONGODB_URI\")\n",
    "    DBclient = pymongo.MongoClient(mongodb_uri)\n",
    "    db = DBclient[\"ML2-Abschlussprojekt\"]\n",
    "    return db[collection]"
   ]
  },
  {
   "cell_type": "code",
   "execution_count": 3,
   "id": "f852bb16-5c59-456a-8498-746c7fbe0aea",
   "metadata": {},
   "outputs": [],
   "source": [
    "def get_all_assessments(semester_id):\n",
    "    results = []\n",
    "    collection = connect_to_db(\"Assessment_Data\")\n",
    "    cursor = collection.find({\n",
    "        \"semester_id\":ObjectId(semester_id),\n",
    "    })\n",
    "    for document in cursor:\n",
    "          results.append(document)\n",
    "    return serialize_obj(results)"
   ]
  },
  {
   "cell_type": "code",
   "execution_count": 4,
   "id": "a65cadc1-52fd-4992-ab42-3cdabbce96c9",
   "metadata": {},
   "outputs": [],
   "source": [
    "def anonymise(student, text):\n",
    "    if student[\"gender\"].lower()==\"männlich\":\n",
    "        aliasname = \"[John]\"\n",
    "    else:\n",
    "        aliasname = \"[Jane]\"\n",
    "    alias_text = text.replace(student[\"firstname\"], aliasname)\n",
    "    return alias_text"
   ]
  },
  {
   "cell_type": "code",
   "execution_count": 5,
   "id": "31b0b92f-4046-449d-ab15-a057f7c69790",
   "metadata": {},
   "outputs": [],
   "source": [
    "assessments = get_all_assessments(\"665d8ff86ce65f51c7e17e34\")"
   ]
  },
  {
   "cell_type": "code",
   "execution_count": 36,
   "id": "473b47e1-a097-4512-8d86-d0d1d8bd29b1",
   "metadata": {},
   "outputs": [],
   "source": [
    "def collect_notes(assessments):\n",
    "    \"\"\"Collects notes from criteria, if there is more than one note.\"\"\"\n",
    "    notes = dict()\n",
    "    for assessment in assessments:\n",
    "        for k, v in assessment[\"allgemeines_lernen\"].items():\n",
    "            if v[\"notes\"]:\n",
    "                notes.setdefault(k, []).append(v[\"notes\"])\n",
    "    notes = {k:v for k,v in notes.items() if len(v)>1}\n",
    "    return json.dumps(notes, ensure_ascii=False)"
   ]
  },
  {
   "cell_type": "code",
   "execution_count": 37,
   "id": "2d899639-330c-4938-a4a5-40de746f5ba2",
   "metadata": {},
   "outputs": [],
   "source": [
    "notes = collect_notes(assessments)"
   ]
  },
  {
   "cell_type": "code",
   "execution_count": 38,
   "id": "52005983-d02c-4f71-85a8-4e2575cf4aa0",
   "metadata": {},
   "outputs": [
    {
     "data": {
      "text/plain": [
       "'{\"SchulinhalteAbrufen\": [\"manchmal hat er Schwierigkeiten, bei Prüfungen zu zeigen, was er kann.\", \"ab und zu fällt es Bruce schwer, bei Prüfungen zu zeigen, was er kann.\"], \"AktivTeilnehmen\": [\"Bruce hat viele schulische Interessen. Insbesondere in Physik und Chemie ist er sehr gut\", \"insbesondere bei Fächer, die ihn interessieren\"]}'"
      ]
     },
     "execution_count": 38,
     "metadata": {},
     "output_type": "execute_result"
    }
   ],
   "source": [
    "notes"
   ]
  },
  {
   "cell_type": "code",
   "execution_count": 39,
   "id": "b763fa1b-5c7b-41d8-8198-4b547f3e2835",
   "metadata": {},
   "outputs": [],
   "source": [
    "import openai\n",
    "\n",
    "def get_api_key():\n",
    "    dotenv.load_dotenv()\n",
    "    os.getenv(\"OPENAI_APIKEY\")\n",
    "    return os.getenv(\"OPENAI_APIKEY\")\n",
    "    \n",
    "\n",
    "def prompt_for_note_recommendation(notes):\n",
    "    system_content = f\"\"\"\n",
    "    Du wirst ein JSON-Object bekommen, das aus einem Key-Value-Pair besteht.\n",
    "    Die Values sind mehrere Strings, die mit einem Komma getrennt wurden.\n",
    "    Dein Task ist es, die Strings so zusammenzusetzen, dass sie einen Fliesstext ergeben.\n",
    "    Der Fliesstext soll professionell sein.\n",
    "    Der Fliesstext soll nur Informationen enthalten, die in den Values mitgegeben werden.\n",
    "    Der Fliesstext soll die Schweizer Rechtschreibung nutzen, das heisst, Scharf-S wird durch Doppel-S ersetzt.\n",
    "    Die Antwort soll ein JSON-Object sein.\n",
    "    Der Key soll dabei unverändert bleiben und die Values sollen mit dem Fliesstext ersetzt werden.\n",
    "    \"\"\"\n",
    "    first_prompt = f\"\"\"\n",
    "    Bitte mache aus den Values des folgenden Dictionary einen professionellen Fliesstext:\n",
    "    {notes}\n",
    "    \"\"\"\n",
    "    return [\n",
    "        {\n",
    "            \"role\": \"system\",\n",
    "            \"content\": system_content\n",
    "        },\n",
    "        {\n",
    "            \"role\": \"user\",\n",
    "            \"content\": \"\"\"\n",
    "    'AktivTeilnehmen': {'insbesondere bei Fächer, die ihn interessieren', 'insbesondere in Physik und Chemie'}\n",
    "    'SchulinhalteAbrufen': {'sehr Themenabhängig', 'manchmal, manchmal nicht', 'grundsätzlich schon, aber nur, wenn es ihn interessiert'}\n",
    "    'AufmerksamSein': {'wenn er einen schlechten Tag hat, geht es nicht', 'meistens gelingt es gut, ausser er hat private Probleme'}\n",
    "    'SchulinhalteMerken': {'wenn ihn das Thema interessiert', 'nur bei speziellen Themen', 'an guten Tagen', 'nicht unbedingt schulische Themen, aber sonst kann er sich viele Sachen merken'}\n",
    "    'LeistungZeigen': {'häufig hat er Migräne', 'wenn er zu wenig geschlafen hat, ist es schwierig'}\n",
    "            \"\"\"\n",
    "        },\n",
    "        {\n",
    "            \"role\": \"assistant\",\n",
    "            \"content\": \"\"\"\n",
    "    'AktivTeilnehmen': {'Insbesondere bei Fächer, die ihn interessieren, wie beispielsweise Physik oder Chemie.'}\n",
    "    'SchulinhalteAbrufen': {'Grundsätzlich gelingt es ihm, wenn ihn ein Thema interessiert. Manchmal ist es aber auch schwierig für ihn.'}\n",
    "    'AufmerksamSein': {'Meistens gelingt es ihm, wenn er aber einen schlechten Tag oder Probleme in seinem privaten Umfeld hat, fällt es ihm schwer.'}\n",
    "    'SchulinhalteMerken': {'Er hat grundsätzlich ein gutes Gedächtnis, aber nicht bei allen schulischen Themen, kann er sich die Inhalte merken. An guten Tagen geht es besser.'}\n",
    "    'LeistungZeigen': {'wenn er Migräne hat oder zu wenig geschlafen hat, ist es schwierig. Leider kommt das häufiger vor.'}\n",
    "            \"\"\"\n",
    "        },\n",
    "        {\n",
    "            \"role\": \"user\",\n",
    "            \"content\": first_prompt\n",
    "        },\n",
    "    ]\n",
    "\n",
    "\n",
    "def _openai(messages, chain=True) -> openai.types.chat.chat_completion.Choice:\n",
    "    \"\"\"\n",
    "    Request is sent to OpenAI\n",
    "    Return the response in a ChatCompletion-Object\n",
    "    \"\"\"\n",
    "    model_result = openai.chat.completions.create(\n",
    "        model=\"gpt-3.5-turbo\",\n",
    "        messages=messages,\n",
    "        temperature=0.2,\n",
    "        top_p=1,\n",
    "    )\n",
    "    response = model_result.choices[0]\n",
    "    if chain:\n",
    "        chain = messages + [response.message]\n",
    "        return response.message.content, chain\n",
    "    return response.message.content\n",
    "\n",
    "\n",
    "\n",
    "def get_recommendation_notes(assessment):\n",
    "    notes = collect_notes(assessment)\n",
    "    messages = prompt_for_note_recommendation(notes)\n",
    "    openai.api_key = get_api_key()\n",
    "    answer = _openai(messages, False)\n",
    "    return answer"
   ]
  },
  {
   "cell_type": "code",
   "execution_count": 40,
   "id": "e14b1f19-63cc-4c00-90f0-953a78bb1836",
   "metadata": {},
   "outputs": [
    {
     "name": "stdout",
     "output_type": "stream",
     "text": [
      "Checkpoint\n"
     ]
    },
    {
     "data": {
      "text/plain": [
       "'\\n{\\n    \"SchulinhalteAbrufen\": [\"Manchmal hat Bruce Schwierigkeiten, bei Prüfungen sein volles Potenzial zu zeigen. Ab und zu fällt es ihm schwer, sein Wissen in Prüfungssituationen abzurufen.\"],\\n    \"AktivTeilnehmen\": [\"Bruce zeigt grosses Interesse an verschiedenen schulischen Themen. Besonders in den Fächern Physik und Chemie zeigt er herausragende Leistungen.\"]\\n}'"
      ]
     },
     "execution_count": 40,
     "metadata": {},
     "output_type": "execute_result"
    }
   ],
   "source": [
    "answer = get_recommendation_notes(assessments)\n",
    "answer"
   ]
  },
  {
   "cell_type": "code",
   "execution_count": 44,
   "id": "6cf8d802-1f35-4fbd-9134-244c8c403ab7",
   "metadata": {},
   "outputs": [
    {
     "data": {
      "text/plain": [
       "{'SchulinhalteAbrufen': ['Manchmal hat Bruce Schwierigkeiten, bei Prüfungen sein volles Potenzial zu zeigen. Ab und zu fällt es ihm schwer, sein Wissen in Prüfungssituationen abzurufen.'],\n",
       " 'AktivTeilnehmen': ['Bruce zeigt grosses Interesse an verschiedenen schulischen Themen. Besonders in den Fächern Physik und Chemie zeigt er herausragende Leistungen.']}"
      ]
     },
     "execution_count": 44,
     "metadata": {},
     "output_type": "execute_result"
    }
   ],
   "source": [
    "json.loads(answer)"
   ]
  },
  {
   "cell_type": "code",
   "execution_count": null,
   "id": "d4271e39-bef2-4650-ab59-229ac40fc122",
   "metadata": {},
   "outputs": [],
   "source": []
  }
 ],
 "metadata": {
  "kernelspec": {
   "display_name": "Python 3 (ipykernel)",
   "language": "python",
   "name": "python3"
  },
  "language_info": {
   "codemirror_mode": {
    "name": "ipython",
    "version": 3
   },
   "file_extension": ".py",
   "mimetype": "text/x-python",
   "name": "python",
   "nbconvert_exporter": "python",
   "pygments_lexer": "ipython3",
   "version": "3.11.4"
  }
 },
 "nbformat": 4,
 "nbformat_minor": 5
}
